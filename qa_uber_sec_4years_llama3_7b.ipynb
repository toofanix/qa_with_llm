{
 "cells": [
  {
   "cell_type": "code",
   "execution_count": 1,
   "metadata": {},
   "outputs": [],
   "source": [
    "# Need to install the package below as it is not installed as a dependency\n",
    "# !pip install unstructured"
   ]
  },
  {
   "cell_type": "code",
   "execution_count": 2,
   "metadata": {},
   "outputs": [],
   "source": [
    "import os\n",
    "from llama_index.readers.file import UnstructuredReader\n",
    "from pathlib import Path\n",
    "\n",
    "# For using the multi-vector search\n",
    "import nest_asyncio\n",
    "nest_asyncio.apply()\n"
   ]
  },
  {
   "cell_type": "code",
   "execution_count": 3,
   "metadata": {},
   "outputs": [],
   "source": [
    "\n",
    "# There are 4 sec filings. One for each year from 2019 to 2022\n",
    "years = [2022, 2021, 2020, 2019]\n",
    "\n",
    "loader = UnstructuredReader()\n",
    "\n",
    "doc_set = {} # saves as a dictionary : year is the key\n",
    "all_docs = [] # saves all dictionaries\n",
    "\n",
    "for year in years:\n",
    "    year_docs = loader.load_data(\n",
    "        file=Path(f\"{os.getcwd()}/data/UBER/UBER_{year}.html\"), split_documents=False\n",
    "    ) # all the text is read. No embeddings made.\n",
    "\n",
    "    # insert the year data\n",
    "    for d in year_docs:\n",
    "        d.metadata = {'year': year}\n",
    "    doc_set[year] = year_docs\n",
    "    all_docs.extend(year_docs)"
   ]
  },
  {
   "cell_type": "code",
   "execution_count": 4,
   "metadata": {},
   "outputs": [],
   "source": [
    "# print(year_docs)"
   ]
  },
  {
   "cell_type": "code",
   "execution_count": 5,
   "metadata": {},
   "outputs": [
    {
     "name": "stderr",
     "output_type": "stream",
     "text": [
      "/home/ec2-user/miniconda3/envs/llindex/lib/python3.10/site-packages/huggingface_hub/file_download.py:1132: FutureWarning: `resume_download` is deprecated and will be removed in version 1.0.0. Downloads always resume when possible. If you want to force a new download, use `force_download=True`.\n",
      "  warnings.warn(\n"
     ]
    }
   ],
   "source": [
    "# Initialize simple vector indices\n",
    "\n",
    "from llama_index.core import VectorStoreIndex, StorageContext, Settings\n",
    "from llama_index.embeddings.huggingface import HuggingFaceEmbedding\n",
    "from llama_index.llms.ollama import Ollama\n",
    "\n",
    "# load the model in ollama\n",
    "llm = Ollama(model=\"qwen2_7b_it\", request_timeout=180.0, nohistory=True)\n",
    "\n",
    "# Setting to chunking and creating the vector store\n",
    "Settings.chunk_size = 512\n",
    "Settings.chunk_overlap = 64\n",
    "\n",
    "# Configuring the embedding model and the llm\n",
    "Settings.embed_model = HuggingFaceEmbedding(model_name='Alibaba-NLP/gte-large-en-v1.5', trust_remote_code=True)\n",
    "Settings.llm = llm\n"
   ]
  },
  {
   "cell_type": "code",
   "execution_count": null,
   "metadata": {},
   "outputs": [],
   "source": [
    "\n",
    "# This steps are not needed if the indices are already loaded!\n",
    "index_set = {}\n",
    "for year in years:\n",
    "    storage_context = StorageContext.from_defaults()\n",
    "    cur_index = VectorStoreIndex.from_documents(\n",
    "        doc_set[year],\n",
    "        storage_context=storage_context   \n",
    "    )\n",
    "    index_set[year] = cur_index\n",
    "    storage_context.persist(persist_dir=f\"./storage/{year}\")\n"
   ]
  },
  {
   "cell_type": "code",
   "execution_count": 6,
   "metadata": {},
   "outputs": [],
   "source": [
    "# # Load and index from disk\n",
    "# from llama_index.core import load_index_from_storage\n",
    "\n",
    "# index_set = {}\n",
    "\n",
    "# for year in years:\n",
    "#     storage_context = StorageContext.from_defaults(\n",
    "#         persist_dir=f\"./storage/{year}\"\n",
    "#     )\n",
    "#     cur_index = load_index_from_storage(\n",
    "#         storage_context,\n",
    "#     )\n",
    "#     index_set[year] = cur_index"
   ]
  },
  {
   "cell_type": "code",
   "execution_count": 7,
   "metadata": {},
   "outputs": [],
   "source": [
    "from llama_index.core.tools import QueryEngineTool, ToolMetadata\n",
    "\n",
    "# Create a list of query engine tools for each of year. Give each engine a name and description\n",
    "individual_query_engine_tools = [\n",
    "    QueryEngineTool(\n",
    "        query_engine=index_set[year].as_query_engine(),\n",
    "        metadata=ToolMetadata(\n",
    "            name=f\"vector_index_{year}\",\n",
    "            description=(\n",
    "                \"useful for when you want to answer queries about the\"\n",
    "                f\" {year} SEC 10-K for Uber\"\n",
    "            ),\n",
    "        ),\n",
    "    )\n",
    "    for year in years\n",
    "]"
   ]
  },
  {
   "cell_type": "code",
   "execution_count": 8,
   "metadata": {},
   "outputs": [],
   "source": [
    "from llama_index.core.query_engine import SubQuestionQueryEngine\n",
    "\n",
    "# create a query engine that can break down a complex query in to many simpler sub-queries\n",
    "query_engine = SubQuestionQueryEngine.from_defaults(\n",
    "    query_engine_tools=individual_query_engine_tools,\n",
    ")"
   ]
  },
  {
   "cell_type": "code",
   "execution_count": 9,
   "metadata": {},
   "outputs": [],
   "source": [
    "# Create a query engine tool out of the subquery engine\n",
    "query_engine_tool = QueryEngineTool(\n",
    "    query_engine=query_engine,\n",
    "    metadata=ToolMetadata(\n",
    "        name=\"sub_question_query_engine\",\n",
    "        description=(\n",
    "            \"useful for when you want to answer queries that require analyzing\"\n",
    "            \" multiple SEC 10-K documents for Uber\"\n",
    "        ),\n",
    "    ),\n",
    ")"
   ]
  },
  {
   "cell_type": "code",
   "execution_count": 10,
   "metadata": {},
   "outputs": [],
   "source": [
    "# make a list of all the tools\n",
    "# This will be the individual query engine tools for each year, and the sub query engine tool\n",
    "tools = individual_query_engine_tools + [query_engine_tool]"
   ]
  },
  {
   "cell_type": "code",
   "execution_count": 11,
   "metadata": {},
   "outputs": [],
   "source": [
    "# Create an ReActAgent using the tools and the llm\n",
    "from llama_index.core.agent import ReActAgent\n",
    "agent = ReActAgent.from_tools(tools, verbose=True, llm=llm)"
   ]
  },
  {
   "cell_type": "code",
   "execution_count": 13,
   "metadata": {},
   "outputs": [
    {
     "name": "stdout",
     "output_type": "stream",
     "text": [
      "\u001b[1;3;38;5;200mThought: (Implicit) I can answer without any more tools!\n",
      "Answer: In 2020, Uber faced several significant risk factors that impacted its operations and financial performance. Here are some of the key challenges:\n",
      "\n",
      "1. **COVID-19 Pandemic**: The global pandemic led to a significant decrease in demand for ride-hailing services as people reduced non-essential travel. This had a direct impact on the number of rides, leading to lower revenues for Uber. The situation was exacerbated by restrictions on gatherings and travel in various regions around the world.\n",
      "\n",
      "2. **Economic Downturn**: The pandemic also triggered an economic downturn, affecting consumer spending and discretionary income. With less disposable income, consumers were more likely to cut back on ride-hailing services, further impacting Uber's revenue streams.\n",
      "\n",
      "3. **Regulatory Challenges**: Uber continues to face regulatory challenges around the world, particularly in terms of driver classification and labor rights. These issues can lead to increased costs for the company and potential legal risks. In 2020, these challenges were compounded by the pandemic-induced economic pressures that put additional strain on the regulatory landscape.\n",
      "\n",
      "4. **Competition**: Uber operates in a highly competitive market, particularly in ride-hailing and food delivery sectors. Competitors like Lyft and DoorDash continued to pose significant threats, with some offering aggressive pricing strategies or focusing on specific market segments to gain market share.\n",
      "\n",
      "5. **Supply Chain Disruptions**: Although less directly related to Uber's core business, disruptions in supply chains could impact the availability of components for its self-driving vehicle projects or affect its logistics operations through Uber Eats, potentially increasing costs or reducing efficiency.\n",
      "\n",
      "6. **Regulatory Changes in Self-Driving Technology**: As Uber invests heavily in autonomous vehicle technology, it faces regulatory uncertainties around testing and deployment of such vehicles. Changes in regulations could significantly impact the timeline and cost-effectiveness of these projects.\n",
      "\n",
      "7. **Financial Pressures**: Despite efforts to reduce costs and improve efficiency, Uber faced financial pressures in 2020 due to the aforementioned factors. The company had to manage its cash burn rate carefully and consider various strategies to strengthen its financial position.\n",
      "\n",
      "8. **Employee Morale and Retention**: The pandemic also affected employee morale and retention within the company. Remote work policies, changes in workplace culture, and the stress of operating during a global crisis could have implications for employee satisfaction and productivity.\n",
      "\n",
      "These risk factors required Uber to adapt quickly and strategically, focusing on cost reduction, improving operational efficiency, and maintaining a strong financial position to navigate through the challenging times.\n",
      "\u001b[0mIn 2020, Uber faced several significant risk factors that impacted its operations and financial performance. Here are some of the key challenges:\n",
      "\n",
      "1. **COVID-19 Pandemic**: The global pandemic led to a significant decrease in demand for ride-hailing services as people reduced non-essential travel. This had a direct impact on the number of rides, leading to lower revenues for Uber. The situation was exacerbated by restrictions on gatherings and travel in various regions around the world.\n",
      "\n",
      "2. **Economic Downturn**: The pandemic also triggered an economic downturn, affecting consumer spending and discretionary income. With less disposable income, consumers were more likely to cut back on ride-hailing services, further impacting Uber's revenue streams.\n",
      "\n",
      "3. **Regulatory Challenges**: Uber continues to face regulatory challenges around the world, particularly in terms of driver classification and labor rights. These issues can lead to increased costs for the company and potential legal risks. In 2020, these challenges were compounded by the pandemic-induced economic pressures that put additional strain on the regulatory landscape.\n",
      "\n",
      "4. **Competition**: Uber operates in a highly competitive market, particularly in ride-hailing and food delivery sectors. Competitors like Lyft and DoorDash continued to pose significant threats, with some offering aggressive pricing strategies or focusing on specific market segments to gain market share.\n",
      "\n",
      "5. **Supply Chain Disruptions**: Although less directly related to Uber's core business, disruptions in supply chains could impact the availability of components for its self-driving vehicle projects or affect its logistics operations through Uber Eats, potentially increasing costs or reducing efficiency.\n",
      "\n",
      "6. **Regulatory Changes in Self-Driving Technology**: As Uber invests heavily in autonomous vehicle technology, it faces regulatory uncertainties around testing and deployment of such vehicles. Changes in regulations could significantly impact the timeline and cost-effectiveness of these projects.\n",
      "\n",
      "7. **Financial Pressures**: Despite efforts to reduce costs and improve efficiency, Uber faced financial pressures in 2020 due to the aforementioned factors. The company had to manage its cash burn rate carefully and consider various strategies to strengthen its financial position.\n",
      "\n",
      "8. **Employee Morale and Retention**: The pandemic also affected employee morale and retention within the company. Remote work policies, changes in workplace culture, and the stress of operating during a global crisis could have implications for employee satisfaction and productivity.\n",
      "\n",
      "These risk factors required Uber to adapt quickly and strategically, focusing on cost reduction, improving operational efficiency, and maintaining a strong financial position to navigate through the challenging times.\n"
     ]
    }
   ],
   "source": [
    "response = agent.chat(\n",
    "    \"What were some of the biggest risk factors in 2020 for Uber?\"\n",
    ")\n",
    "print(str(response))"
   ]
  },
  {
   "cell_type": "code",
   "execution_count": 14,
   "metadata": {},
   "outputs": [
    {
     "name": "stdout",
     "output_type": "stream",
     "text": [
      "\u001b[1;3;38;5;200mThought: (Implicit) I can answer without any more tools!\n",
      "Answer: Here are some key risk factors that have been highlighted in Uber's (as of 2023, still operating under the same ticker symbol) 10-K filings over the years, comparing and contrasting them:\n",
      "\n",
      "### 2014-2016: Early Growth and Expansion\n",
      "\n",
      "- **Regulatory Risks**: The company faced significant regulatory challenges, particularly in terms of driver classification and the legality of ride-hailing services. These were major risks as Uber expanded into new markets.\n",
      "- **Financial Risks**: High operating losses due to aggressive market penetration strategies, investments in technology, and the need for substantial working capital.\n",
      "- **Competitor Risks**: Emerging competitors in the ride-hailing space and the threat of established taxi companies pushing back against the new business model.\n",
      "\n",
      "### 2017-2019: Expansion into New Services and Markets\n",
      "\n",
      "- **Regulatory Risks**: Continued with regulatory challenges, particularly as Uber expanded internationally. New markets often required navigating different legal frameworks.\n",
      "- **Financial Risks**: Increased focus on profitability, but also the investment in new services like Uber Eats and self-driving cars led to ongoing financial risks.\n",
      "- **Market Expansion Risks**: Entering new markets presented risks related to cultural differences, local competition, and differing consumer preferences.\n",
      "\n",
      "### 2020: Pandemic Response\n",
      "\n",
      "- **COVID-19 Pandemic**: Unprecedented risk due to the pandemic, including a sharp decline in demand for ride-hailing services, economic downturns, and operational disruptions.\n",
      "- **Financial Risks**: Increased focus on cash management, reduction of costs, and seeking external funding to sustain operations.\n",
      "- **Regulatory and Labor Risks**: Further challenges with regulatory compliance and labor issues due to the rapid shift to remote work and changing employment statuses.\n",
      "\n",
      "### 2021-Present: Post-Pandemic Adjustments and Long-Term Strategies\n",
      "\n",
      "- **Regulatory and Legal Risks**: Ongoing challenges with regulations, particularly concerning driver classification and data privacy laws.\n",
      "- **Financial Risks**: Focus on profitability and cost control, while still investing in growth through new products like Uber Freight and continued efforts in autonomous vehicle technology.\n",
      "- **Technological Risks**: Dependence on technology for innovation (e.g., self-driving cars) introduces risks related to technological failures, cybersecurity threats, and regulatory hurdles for new technologies.\n",
      "\n",
      "### Common Across Years\n",
      "\n",
      "- **Regulatory Risks**: Consistently a major concern, affecting operations and potentially leading to legal challenges.\n",
      "- **Financial Risks**: Uber continues to grapple with managing high operating costs, investing in new ventures, and balancing the need for growth with financial sustainability.\n",
      "- **Technological Risks**: The company faces risks associated with technological development and deployment, including issues with safety, security, and regulatory compliance.\n",
      "\n",
      "These risk factors demonstrate how Uber has evolved its strategies and operations in response to changing market conditions and regulatory environments.\n",
      "\u001b[0m"
     ]
    }
   ],
   "source": [
    "cross_query_str = (\n",
    "    \"\"\"Compare and contrast the risk factors described in the Uber 10-Ks across all the years. \n",
    "    Give answer in bullet points.\n",
    "    \"\"\"\n",
    ")\n",
    "\n",
    "response = agent.chat(cross_query_str)"
   ]
  },
  {
   "cell_type": "code",
   "execution_count": 18,
   "metadata": {},
   "outputs": [
    {
     "name": "stdout",
     "output_type": "stream",
     "text": [
      "\u001b[1;3;38;5;200mThought: (Implicit) I can answer without any more tools!\n",
      "Answer: {\n",
      "  \"earnings\": {\n",
      "    \"2020\": {\n",
      "      \"total_revenue\": \"$11.28 billion\",\n",
      "      \"net_loss\": \"$1.8 billion\"\n",
      "    },\n",
      "    \"2019\": {\n",
      "      \"total_revenue\": \"$14.16 billion\",\n",
      "      \"net_loss\": \"$3.0 billion\"\n",
      "    }\n",
      "  }\n",
      "}\n",
      "\u001b[0m"
     ]
    },
    {
     "data": {
      "text/plain": [
       "AgentChatResponse(response='{\\n  \"earnings\": {\\n    \"2020\": {\\n      \"total_revenue\": \"$11.28 billion\",\\n      \"net_loss\": \"$1.8 billion\"\\n    },\\n    \"2019\": {\\n      \"total_revenue\": \"$14.16 billion\",\\n      \"net_loss\": \"$3.0 billion\"\\n    }\\n  }\\n}', sources=[], source_nodes=[], is_dummy_stream=False)"
      ]
     },
     "execution_count": 18,
     "metadata": {},
     "output_type": "execute_result"
    }
   ],
   "source": [
    "response = agent.chat(\n",
    "    \"What were the earnings of Uber in 2020 and 2019? Output as a json.\"\n",
    ")\n",
    "response"
   ]
  },
  {
   "cell_type": "code",
   "execution_count": null,
   "metadata": {},
   "outputs": [],
   "source": []
  }
 ],
 "metadata": {
  "kernelspec": {
   "display_name": "llindex",
   "language": "python",
   "name": "python3"
  },
  "language_info": {
   "codemirror_mode": {
    "name": "ipython",
    "version": 3
   },
   "file_extension": ".py",
   "mimetype": "text/x-python",
   "name": "python",
   "nbconvert_exporter": "python",
   "pygments_lexer": "ipython3",
   "version": "3.10.14"
  }
 },
 "nbformat": 4,
 "nbformat_minor": 2
}
