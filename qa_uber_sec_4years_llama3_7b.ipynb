{
 "cells": [
  {
   "cell_type": "code",
   "execution_count": 1,
   "metadata": {},
   "outputs": [],
   "source": [
    "# !pip install unstructure"
   ]
  },
  {
   "cell_type": "code",
   "execution_count": 2,
   "metadata": {},
   "outputs": [],
   "source": [
    "import nest_asyncio\n",
    "\n",
    "nest_asyncio.apply()\n"
   ]
  },
  {
   "cell_type": "code",
   "execution_count": 3,
   "metadata": {},
   "outputs": [],
   "source": [
    "from llama_index.readers.file import UnstructuredReader\n",
    "from pathlib import Path\n",
    "\n",
    "years = [2022, 2021, 2020, 2019]\n",
    "\n",
    "loader = UnstructuredReader()\n",
    "\n",
    "doc_set = {} # saves as a dictionary : year is the key\n",
    "all_docs = [] # saves all dictionaries\n",
    "\n",
    "for year in years:\n",
    "    year_docs = loader.load_data(\n",
    "        file=Path(f\"/home/ec2-user/qa_with_llm/data/UBER/UBER_{year}.html\"), split_documents=False\n",
    "    ) # all the text is read. No embeddings made.\n",
    "\n",
    "    # insert the year data\n",
    "    for d in year_docs:\n",
    "        d.metadata = {'year': year}\n",
    "    doc_set[year] = year_docs\n",
    "    all_docs.extend(year_docs)"
   ]
  },
  {
   "cell_type": "code",
   "execution_count": 2,
   "metadata": {},
   "outputs": [
    {
     "ename": "NameError",
     "evalue": "name 'year_docs' is not defined",
     "output_type": "error",
     "traceback": [
      "\u001b[0;31m---------------------------------------------------------------------------\u001b[0m",
      "\u001b[0;31mNameError\u001b[0m                                 Traceback (most recent call last)",
      "Cell \u001b[0;32mIn[2], line 1\u001b[0m\n\u001b[0;32m----> 1\u001b[0m \u001b[38;5;28mprint\u001b[39m(\u001b[43myear_docs\u001b[49m)\n",
      "\u001b[0;31mNameError\u001b[0m: name 'year_docs' is not defined"
     ]
    }
   ],
   "source": [
    "print(year_docs)"
   ]
  },
  {
   "cell_type": "code",
   "execution_count": 5,
   "metadata": {},
   "outputs": [],
   "source": [
    "# Initialize simple vector indices\n",
    "# This steps are not needed if the indices are already loaded!\n",
    "from llama_index.core import VectorStoreIndex, StorageContext, Settings\n",
    "from llama_index.embeddings.huggingface import HuggingFaceEmbedding\n",
    "from llama_index.llms.ollama import Ollama\n"
   ]
  },
  {
   "cell_type": "code",
   "execution_count": 6,
   "metadata": {},
   "outputs": [],
   "source": [
    "llm = Ollama(model=\"llama3\", request_timeout=180.0)"
   ]
  },
  {
   "cell_type": "code",
   "execution_count": 7,
   "metadata": {},
   "outputs": [
    {
     "name": "stderr",
     "output_type": "stream",
     "text": [
      "/home/ec2-user/miniconda3/envs/llindex/lib/python3.10/site-packages/huggingface_hub/file_download.py:1132: FutureWarning: `resume_download` is deprecated and will be removed in version 1.0.0. Downloads always resume when possible. If you want to force a new download, use `force_download=True`.\n",
      "  warnings.warn(\n"
     ]
    }
   ],
   "source": [
    "Settings.chunk_size = 512\n",
    "Settings.chunk_overlap = 64\n",
    "Settings.embed_model = HuggingFaceEmbedding(model_name='BAAI/bge-base-en-v1.5')\n",
    "Settings.llm = llm"
   ]
  },
  {
   "cell_type": "code",
   "execution_count": 8,
   "metadata": {},
   "outputs": [],
   "source": [
    "# index_set = {}\n",
    "# for year in years:\n",
    "#     storage_context = StorageContext.from_defaults()\n",
    "#     cur_index = VectorStoreIndex.from_documents(\n",
    "#         doc_set[year],\n",
    "#         storage_context=storage_context   \n",
    "#     )\n",
    "#     index_set[year] = cur_index\n",
    "#     storage_context.persist(persist_dir=f\"./storage/{year}\")"
   ]
  },
  {
   "cell_type": "code",
   "execution_count": 9,
   "metadata": {},
   "outputs": [],
   "source": [
    "# Load and index from disk\n",
    "from llama_index.core import load_index_from_storage\n",
    "\n",
    "index_set = {}\n",
    "\n",
    "for year in years:\n",
    "    storage_context = StorageContext.from_defaults(\n",
    "        persist_dir=f\"./storage/{year}\"\n",
    "    )\n",
    "    cur_index = load_index_from_storage(\n",
    "        storage_context,\n",
    "    )\n",
    "    index_set[year] = cur_index"
   ]
  },
  {
   "cell_type": "code",
   "execution_count": 10,
   "metadata": {},
   "outputs": [],
   "source": [
    "from llama_index.core.tools import QueryEngineTool, ToolMetadata\n",
    "\n",
    "individual_query_engine_tools = [\n",
    "    QueryEngineTool(\n",
    "        query_engine=index_set[year].as_query_engine(),\n",
    "        metadata=ToolMetadata(\n",
    "            name=f\"vector_index_{year}\",\n",
    "            description=(\n",
    "                \"useful for when you want to answer queries about the\"\n",
    "                f\" {year} SEC 10-K for Uber\"\n",
    "            ),\n",
    "        ),\n",
    "    )\n",
    "    for year in years\n",
    "]"
   ]
  },
  {
   "cell_type": "code",
   "execution_count": 11,
   "metadata": {},
   "outputs": [],
   "source": [
    "from llama_index.core.query_engine import SubQuestionQueryEngine\n",
    "\n",
    "query_engine = SubQuestionQueryEngine.from_defaults(\n",
    "    query_engine_tools=individual_query_engine_tools,\n",
    ")"
   ]
  },
  {
   "cell_type": "code",
   "execution_count": 12,
   "metadata": {},
   "outputs": [],
   "source": [
    "query_engine_tool = QueryEngineTool(\n",
    "    query_engine=query_engine,\n",
    "    metadata=ToolMetadata(\n",
    "        name=\"sub_question_query_engine\",\n",
    "        description=(\n",
    "            \"useful for when you want to answer queries that require analyzing\"\n",
    "            \" multiple SEC 10-K documents for Uber\"\n",
    "        ),\n",
    "    ),\n",
    ")"
   ]
  },
  {
   "cell_type": "code",
   "execution_count": 13,
   "metadata": {},
   "outputs": [],
   "source": [
    "tools = individual_query_engine_tools + [query_engine_tool]"
   ]
  },
  {
   "cell_type": "code",
   "execution_count": 14,
   "metadata": {},
   "outputs": [],
   "source": [
    "from llama_index.core.agent import ReActAgent\n",
    "agent = ReActAgent.from_tools(tools, verbose=True, llm=llm)"
   ]
  },
  {
   "cell_type": "code",
   "execution_count": 15,
   "metadata": {},
   "outputs": [],
   "source": [
    "# response = agent.chat(\n",
    "#     \"Hello, I am John.\"\n",
    "# )\n",
    "# print(response)"
   ]
  },
  {
   "cell_type": "code",
   "execution_count": 16,
   "metadata": {},
   "outputs": [
    {
     "name": "stdout",
     "output_type": "stream",
     "text": [
      "\u001b[1;3;38;5;200mThought: The current language of the user is: English. I need to use a tool to help me answer the question.\n",
      "Action: vector_index_2020\n",
      "Action Input: {'input': 'risk factors', 'year': 2020}\n",
      "\u001b[0m\u001b[1;3;34mObservation: Some of the risks that could have an adverse effect on our business, financial condition, operating results, or prospects include the COVID-19 pandemic and its impact on mitigating actions. The mobility, delivery, and logistics industries are highly competitive with well-established alternatives, low barriers to entry, and low switching costs. Our business would be harmed if Drivers were classified as employees, workers, or quasi-employees instead of independent contractors. We have incurred significant losses since inception and may not achieve profitability due to increasing operating expenses. The platform's appeal could suffer if we fail to attract or maintain a critical mass of users. Maintaining our brand and reputation is crucial for our business prospects. We also face risks related to data collection, use, transfer, disclosure, and processing, which could result in investigations, litigation, fines, or negative press.\n",
      "\u001b[0m\u001b[1;3;38;5;200mThought: The user's question has been partially answered. I will continue to analyze the 2020 SEC 10-K document for Uber.\n",
      "Action: vector_index_2020\n",
      "Action Input: {'input': 'additional risk factors', 'year': 2020}\n",
      "\u001b[0m\u001b[1;3;34mObservation: If drivers were classified as employees, workers or quasi-employees instead of independent contractors. The mobility, delivery, and logistics industries are highly competitive, with well-established and low-cost alternatives that have been available for decades, low barriers to entry, low switching costs, and well-capitalized competitors in nearly every major geographic region.\n",
      "\u001b[0m\u001b[1;3;34mObservation: Error: Could not parse output. Please follow the thought-action-input format. Try again.\n",
      "\u001b[0m\u001b[1;3;38;5;200mThought: The user's question has been partially answered. I will continue to analyze the 2020 SEC 10-K document for Uber.\n",
      "Action: vector_index_2020\n",
      "Action Input: {'input': 'additional risk factors', 'year': 2020}\n",
      "\u001b[0m\u001b[1;3;34mObservation: The following are some of these risks, any of which could have an adverse effect on our business financial condition, operating results, or prospects. The COVID-19 pandemic and the impact of actions to mitigate the pandemic has adversely affected and may continue to adversely affect parts of our business. Our business would be adversely affected if Drivers were classified as employees, workers or quasi-employees instead of independent contractors.\n",
      "\u001b[0m\u001b[1;3;38;5;200mThought: I can answer without using any more tools. I'll use the user's language to answer.\n",
      "Answer: The biggest risk factors in 2020 for Uber include the COVID-19 pandemic and its impact on mitigating actions, being classified as employees, workers or quasi-employees instead of independent contractors, high competition in the mobility, delivery, and logistics industries, and the potential to incur significant losses since inception.\n",
      "\u001b[0mThe biggest risk factors in 2020 for Uber include the COVID-19 pandemic and its impact on mitigating actions, being classified as employees, workers or quasi-employees instead of independent contractors, high competition in the mobility, delivery, and logistics industries, and the potential to incur significant losses since inception.\n"
     ]
    }
   ],
   "source": [
    "response = agent.chat(\n",
    "    \"What were some of the biggest risk factors in 2020 for Uber?\"\n",
    ")\n",
    "print(str(response))"
   ]
  },
  {
   "cell_type": "code",
   "execution_count": 20,
   "metadata": {},
   "outputs": [
    {
     "name": "stdout",
     "output_type": "stream",
     "text": [
      "\u001b[1;3;38;5;200mThought: (Implicit) I can answer without any more tools!\n",
      "Answer: Here is the comparison of risk factors across all years:\n",
      "\n",
      "**2022:**\n",
      "• Regulatory environment\n",
      "• Mitigating actions for COVID-19 pandemic's impact on business\n",
      "• Competition from other ride-hailing and delivery companies\n",
      "• High employee turnover rate\n",
      "• Dependence on third-party service providers\n",
      "• Cybersecurity risks due to handling of sensitive customer data\n",
      "\n",
      "**2021:**\n",
      "• Classification of drivers as employees or quasi-employees, impacting labor costs and operations\n",
      "• Regulatory environment, particularly with regards to employment classification and benefits\n",
      "• Competition from other ride-hailing and delivery companies\n",
      "• High employee turnover rate\n",
      "• Dependence on third-party service providers\n",
      "\n",
      "**2020:**\n",
      "• COVID-19 pandemic's impact on business, including reduced ridership and revenue\n",
      "• Regulatory environment, particularly with regards to transportation and employment laws\n",
      "• Competition from other ride-hailing and delivery companies\n",
      "• High employee turnover rate\n",
      "• Dependence on third-party service providers\n",
      "\n",
      "**2019:**\n",
      "• Loss of licenses or permits impacting operations in certain jurisdictions\n",
      "• Additional regulations for new products, such as bike- and scooter-sharing services\n",
      "• Competition from other ride-hailing and delivery companies\n",
      "• High employee turnover rate\n",
      "• Dependence on third-party service providers\n",
      "\u001b[0m"
     ]
    }
   ],
   "source": [
    "cross_query_str = (\n",
    "    \"\"\"Compare and contrast the risk factors described in the Uber 10-Ks across all the years. \n",
    "    Give answer in bullet points.\n",
    "    \"\"\"\n",
    ")\n",
    "\n",
    "response = agent.chat(cross_query_str)"
   ]
  },
  {
   "cell_type": "code",
   "execution_count": null,
   "metadata": {},
   "outputs": [],
   "source": []
  }
 ],
 "metadata": {
  "kernelspec": {
   "display_name": "llindex",
   "language": "python",
   "name": "python3"
  },
  "language_info": {
   "codemirror_mode": {
    "name": "ipython",
    "version": 3
   },
   "file_extension": ".py",
   "mimetype": "text/x-python",
   "name": "python",
   "nbconvert_exporter": "python",
   "pygments_lexer": "ipython3",
   "version": "3.10.14"
  }
 },
 "nbformat": 4,
 "nbformat_minor": 2
}
