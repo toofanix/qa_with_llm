{
 "cells": [
  {
   "cell_type": "code",
   "execution_count": 1,
   "metadata": {},
   "outputs": [],
   "source": [
    "from llama_index.llms.ollama import Ollama\n",
    "from openai import OpenAI\n",
    "from pydantic import BaseModel, Field\n",
    "from typing import List\n",
    "import instructor"
   ]
  },
  {
   "cell_type": "code",
   "execution_count": 2,
   "metadata": {},
   "outputs": [],
   "source": [
    "model = 'phi3'\n",
    "llm = Ollama(model=model)"
   ]
  },
  {
   "cell_type": "code",
   "execution_count": 3,
   "metadata": {},
   "outputs": [],
   "source": [
    "client = instructor.patch(\n",
    "    OpenAI(\n",
    "        base_url='http://localhost:11434/v1',\n",
    "        api_key='ollama'\n",
    "    ),\n",
    "    mode=instructor.Mode.JSON\n",
    ")"
   ]
  },
  {
   "cell_type": "code",
   "execution_count": 4,
   "metadata": {},
   "outputs": [],
   "source": [
    "class Song(BaseModel):\n",
    "    title: str = Field(..., description='The title of the song.')\n",
    "    length_seconds: int = Field(..., description='How long the song is.')\n",
    "\n",
    "\n",
    "class Album(BaseModel):\n",
    "    name: str = Field(..., description='The name of the album.')\n",
    "    artist: str = Field(..., description='The name of the artist who made the album.')\n",
    "    songs: List[Song] = Field(..., description='A list of all the songs in the album')\n"
   ]
  },
  {
   "cell_type": "code",
   "execution_count": 5,
   "metadata": {},
   "outputs": [],
   "source": [
    "movie_name=\"The Shining\"\n",
    "resp = client.chat.completions.create(\n",
    "    model='llama3',\n",
    "    messages=[\n",
    "        {\n",
    "        'role': 'user',\n",
    "        'content': f\"\"\"Generate an example album, with an artist and a list of songs. Using the movie 'The Shining' as inspiration.\"\"\"}\n",
    "    ],\n",
    "    response_model=Album,\n",
    ")"
   ]
  },
  {
   "cell_type": "code",
   "execution_count": 6,
   "metadata": {},
   "outputs": [
    {
     "name": "stdout",
     "output_type": "stream",
     "text": [
      "name='The Redrum Record' artist='Jack Torrance' songs=[Song(title=\"Heeeeere's Johnny!\", length_seconds=240), Song(title='Room to Room, Room by Room', length_seconds=300), Song(title='Redrum Ragtime', length_seconds=270), Song(title='The Bloodied Ballad of the Overlook Hotel', length_seconds=330)]\n"
     ]
    }
   ],
   "source": [
    "print(resp)"
   ]
  },
  {
   "cell_type": "code",
   "execution_count": 14,
   "metadata": {},
   "outputs": [
    {
     "name": "stdout",
     "output_type": "stream",
     "text": [
      "The Redrum Record\n",
      "Jack Torrance\n"
     ]
    },
    {
     "data": {
      "text/plain": [
       "[Song(title=\"Heeeeere's Johnny!\", length_seconds=240),\n",
       " Song(title='Room to Room, Room by Room', length_seconds=300),\n",
       " Song(title='Redrum Ragtime', length_seconds=270),\n",
       " Song(title='The Bloodied Ballad of the Overlook Hotel', length_seconds=330)]"
      ]
     },
     "execution_count": 14,
     "metadata": {},
     "output_type": "execute_result"
    }
   ],
   "source": [
    "print(resp.name)\n",
    "print(resp.artist)\n",
    "resp.songs"
   ]
  },
  {
   "cell_type": "code",
   "execution_count": null,
   "metadata": {},
   "outputs": [],
   "source": []
  },
  {
   "cell_type": "code",
   "execution_count": null,
   "metadata": {},
   "outputs": [],
   "source": []
  }
 ],
 "metadata": {
  "kernelspec": {
   "display_name": "llindex",
   "language": "python",
   "name": "python3"
  },
  "language_info": {
   "codemirror_mode": {
    "name": "ipython",
    "version": 3
   },
   "file_extension": ".py",
   "mimetype": "text/x-python",
   "name": "python",
   "nbconvert_exporter": "python",
   "pygments_lexer": "ipython3",
   "version": "3.10.14"
  }
 },
 "nbformat": 4,
 "nbformat_minor": 2
}
