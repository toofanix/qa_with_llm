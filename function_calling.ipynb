{
 "cells": [
  {
   "cell_type": "code",
   "execution_count": 20,
   "metadata": {},
   "outputs": [],
   "source": [
    "import json\n",
    "from typing import Sequence, List\n",
    "\n",
    "from langchain_experimental.llms.ollama_functions import OllamaFunctions\n",
    "from langchain_core.utils.function_calling import convert_to_openai_tool, convert_to_openai_function\n",
    "from langchain_core.messages import HumanMessage\n",
    "\n",
    "\n"
   ]
  },
  {
   "cell_type": "code",
   "execution_count": 2,
   "metadata": {},
   "outputs": [],
   "source": [
    "llm = OllamaFunctions(\n",
    "    model='phi3',\n",
    "    format='json'\n",
    ")"
   ]
  },
  {
   "cell_type": "code",
   "execution_count": 62,
   "metadata": {},
   "outputs": [],
   "source": [
    "def add_two_numbers(number1: int, number2: int)-> int:\n",
    "    \"\"\"\n",
    "    Add two numbers and return the result.\n",
    "    \n",
    "    Args:\n",
    "        number1: The first number.\n",
    "        number2: The second number.   \n",
    "    \"\"\"\n",
    "    return (number1 + number2)\n",
    "\n",
    "\n",
    "def useless_tool() -> int:\n",
    "    \"\"\"\n",
    "    This is useless tool\n",
    "    \"\"\"\n",
    "    return \"This is a useless output\"\n",
    "\n"
   ]
  },
  {
   "cell_type": "code",
   "execution_count": 68,
   "metadata": {},
   "outputs": [],
   "source": [
    "tools = [convert_to_openai_tool(func)['function'] for func in [\n",
    "    add_two_numbers, useless_tool\n",
    "]] "
   ]
  },
  {
   "cell_type": "code",
   "execution_count": 69,
   "metadata": {},
   "outputs": [
    {
     "data": {
      "text/plain": [
       "{'name': 'useless_tool',\n",
       " 'description': 'This is useless tool',\n",
       " 'parameters': {'type': 'object', 'properties': {}, 'required': []}}"
      ]
     },
     "execution_count": 69,
     "metadata": {},
     "output_type": "execute_result"
    }
   ],
   "source": [
    "tools[1]"
   ]
  },
  {
   "cell_type": "code",
   "execution_count": 70,
   "metadata": {},
   "outputs": [],
   "source": [
    "llm = llm.bind_tools(tools=tools)"
   ]
  },
  {
   "cell_type": "code",
   "execution_count": 72,
   "metadata": {},
   "outputs": [
    {
     "data": {
      "text/plain": [
       "AIMessage(content='', id='run-698dd32b-ce69-4f73-bb77-3e5d2b123d67-0', tool_calls=[{'name': 'add_two_numbers', 'args': {'number1': 3, 'number2': 4}, 'id': 'call_43fb82d672ba4fe285913251bdd8dd11'}])"
      ]
     },
     "execution_count": 72,
     "metadata": {},
     "output_type": "execute_result"
    }
   ],
   "source": [
    "llm.invoke(\"what is the product of 3 and 4?\")"
   ]
  },
  {
   "cell_type": "code",
   "execution_count": null,
   "metadata": {},
   "outputs": [],
   "source": []
  }
 ],
 "metadata": {
  "kernelspec": {
   "display_name": "llindex",
   "language": "python",
   "name": "python3"
  },
  "language_info": {
   "codemirror_mode": {
    "name": "ipython",
    "version": 3
   },
   "file_extension": ".py",
   "mimetype": "text/x-python",
   "name": "python",
   "nbconvert_exporter": "python",
   "pygments_lexer": "ipython3",
   "version": "3.10.14"
  }
 },
 "nbformat": 4,
 "nbformat_minor": 2
}
