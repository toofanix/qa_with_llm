{
 "cells": [
  {
   "cell_type": "code",
   "execution_count": 1,
   "metadata": {},
   "outputs": [],
   "source": [
    "import json\n",
    "from typing import Sequence, List\n",
    "\n",
    "from langchain_experimental.llms.ollama_functions import OllamaFunctions\n",
    "from langchain_core.utils.function_calling import convert_to_openai_tool\n",
    "from langchain_core.messages import HumanMessage\n",
    "\n",
    "\n"
   ]
  },
  {
   "cell_type": "code",
   "execution_count": 2,
   "metadata": {},
   "outputs": [],
   "source": [
    "llm = OllamaFunctions(\n",
    "    model='phi3',\n",
    "    keep_alive=-1,\n",
    "    format='json'\n",
    ")"
   ]
  },
  {
   "cell_type": "code",
   "execution_count": 3,
   "metadata": {},
   "outputs": [],
   "source": [
    "def add_two_numbers(number1: int, number2: int)-> int:\n",
    "    \"\"\"\n",
    "    Add two numbers and return the result.\n",
    "    \n",
    "    Args:\n",
    "        - number1: The first number.\n",
    "        - number2: The second number.\n",
    "    \"\"\"\n",
    "    return (number1 + number2)\n",
    "\n",
    "\n",
    "def useless_tool() -> int:\n",
    "    \"\"\"\n",
    "    This is useless tool\n",
    "    \"\"\"\n",
    "    return \"This is a useless output\"\n",
    "\n"
   ]
  },
  {
   "cell_type": "code",
   "execution_count": 4,
   "metadata": {},
   "outputs": [],
   "source": [
    "tools = [convert_to_openai_tool(func)['function'] for func in [\n",
    "    add_two_numbers, useless_tool\n",
    "]] "
   ]
  },
  {
   "cell_type": "code",
   "execution_count": 5,
   "metadata": {},
   "outputs": [],
   "source": [
    "llm = llm.bind_tools(tools=tools)"
   ]
  },
  {
   "cell_type": "code",
   "execution_count": 6,
   "metadata": {},
   "outputs": [
    {
     "data": {
      "text/plain": [
       "AIMessage(content='', id='run-36f88209-ac68-4d5e-af94-31de30a8be3c-0', tool_calls=[{'name': 'add_two_numbers', 'args': {'number1': 3, 'number2': 4}, 'id': 'call_86cb0b6192ed4e16980aaba783924d37'}])"
      ]
     },
     "execution_count": 6,
     "metadata": {},
     "output_type": "execute_result"
    }
   ],
   "source": [
    "llm.invoke(\"what is the sum of 3 and 4?\")"
   ]
  },
  {
   "cell_type": "code",
   "execution_count": null,
   "metadata": {},
   "outputs": [],
   "source": []
  }
 ],
 "metadata": {
  "kernelspec": {
   "display_name": "llindex",
   "language": "python",
   "name": "python3"
  },
  "language_info": {
   "codemirror_mode": {
    "name": "ipython",
    "version": 3
   },
   "file_extension": ".py",
   "mimetype": "text/x-python",
   "name": "python",
   "nbconvert_exporter": "python",
   "pygments_lexer": "ipython3",
   "version": "3.10.14"
  }
 },
 "nbformat": 4,
 "nbformat_minor": 2
}
