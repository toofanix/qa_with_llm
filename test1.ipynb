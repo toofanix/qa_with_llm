{
 "cells": [
  {
   "cell_type": "code",
   "execution_count": 1,
   "metadata": {},
   "outputs": [],
   "source": [
    "from pprint import pprint"
   ]
  },
  {
   "cell_type": "code",
   "execution_count": 2,
   "metadata": {},
   "outputs": [],
   "source": [
    "import nest_asyncio\n",
    "\n",
    "nest_asyncio.apply()"
   ]
  },
  {
   "cell_type": "code",
   "execution_count": 3,
   "metadata": {},
   "outputs": [],
   "source": [
    "from llama_index.llms.ollama import Ollama\n",
    "\n",
    "llm = Ollama(model=\"mistral\", request_timeout=120.0)"
   ]
  },
  {
   "cell_type": "code",
   "execution_count": 4,
   "metadata": {},
   "outputs": [
    {
     "name": "stderr",
     "output_type": "stream",
     "text": [
      "/home/ec2-user/miniconda3/envs/llindex/lib/python3.10/site-packages/huggingface_hub/file_download.py:1132: FutureWarning: `resume_download` is deprecated and will be removed in version 1.0.0. Downloads always resume when possible. If you want to force a new download, use `force_download=True`.\n",
      "  warnings.warn(\n"
     ]
    }
   ],
   "source": [
    "from llama_index.embeddings.huggingface import HuggingFaceEmbedding\n",
    "\n",
    "embed_model = HuggingFaceEmbedding(model_name=\"BAAI/bge-small-en-v1.5\")"
   ]
  },
  {
   "cell_type": "code",
   "execution_count": 5,
   "metadata": {},
   "outputs": [],
   "source": [
    "from llama_index.core import Settings\n",
    "\n",
    "Settings.llm = llm\n",
    "Settings.embed_model = embed_model"
   ]
  },
  {
   "cell_type": "code",
   "execution_count": 6,
   "metadata": {},
   "outputs": [
    {
     "name": "stdout",
     "output_type": "stream",
     "text": [
      "mkdir: cannot create directory ‘data/cookbook’: File exists\n",
      "--2024-06-26 16:52:49--  https://www.dropbox.com/scl/fi/t1soxfjdp0v44an6sdymd/drake_kendrick_beef.pdf?rlkey=u9546ymb7fj8lk2v64r6p5r5k&st=wjzzrgil&dl=1\n",
      "Resolving www.dropbox.com (www.dropbox.com)... 162.125.6.18, 2620:100:601c:18::a27d:612\n",
      "Connecting to www.dropbox.com (www.dropbox.com)|162.125.6.18|:443... connected.\n",
      "HTTP request sent, awaiting response... 302 Found\n",
      "Location: https://uc55efe461ac87502a6ed40453d9.dl.dropboxusercontent.com/cd/0/inline/CVm74WlGzaR815-0JBd_4CImeuDzoZsSrZ61lZwAWBFb6UUxKE2jC5zQEV12BpqnP0wAW4yOUeqg8kxUtMvfsO3udDezOEy4WYU_7co_HcVCD8SNl_ASn7ZGQqqUbt1Bkb0/file?dl=1# [following]\n",
      "--2024-06-26 16:52:50--  https://uc55efe461ac87502a6ed40453d9.dl.dropboxusercontent.com/cd/0/inline/CVm74WlGzaR815-0JBd_4CImeuDzoZsSrZ61lZwAWBFb6UUxKE2jC5zQEV12BpqnP0wAW4yOUeqg8kxUtMvfsO3udDezOEy4WYU_7co_HcVCD8SNl_ASn7ZGQqqUbt1Bkb0/file?dl=1\n",
      "Resolving uc55efe461ac87502a6ed40453d9.dl.dropboxusercontent.com (uc55efe461ac87502a6ed40453d9.dl.dropboxusercontent.com)... 162.125.6.15, 2620:100:601c:15::a27d:60f\n",
      "Connecting to uc55efe461ac87502a6ed40453d9.dl.dropboxusercontent.com (uc55efe461ac87502a6ed40453d9.dl.dropboxusercontent.com)|162.125.6.15|:443... connected.\n",
      "HTTP request sent, awaiting response... 302 Found\n",
      "Location: /cd/0/inline2/CVn4iqdQlm0-yUpbpr6nFuinXIcZQxeBvsaEV0qB4KTb5mmS9eoMt9tlL0WUvOd1QUHpdk-nnGwJczTiRT2bTThVFlN5P8ffdClvBed1BnYg2kcZVh7DyweLx5Sxs6Ru5aU7RholvOBMhxSLpDPEpIoITGhWY0KO9oOkgvzxYb1RVa_IkBtjZjUirVKEsFaYRtc93P6gpNW2lZ0D3R6Ao4e31S81x1soFVGhGDIOP3w3nbz5vzVNawsyngNXc291UrJ8Z_N_JSEBlHjliVgVEBw99txvx6iP3XVnizOgfYvMAVb2QfOExQijDsvJyFXEsw4mfVWXEgv0T8Bw674bXLc5CIWf_dOcxAPMC5s0hfgvOg/file?dl=1 [following]\n",
      "--2024-06-26 16:52:50--  https://uc55efe461ac87502a6ed40453d9.dl.dropboxusercontent.com/cd/0/inline2/CVn4iqdQlm0-yUpbpr6nFuinXIcZQxeBvsaEV0qB4KTb5mmS9eoMt9tlL0WUvOd1QUHpdk-nnGwJczTiRT2bTThVFlN5P8ffdClvBed1BnYg2kcZVh7DyweLx5Sxs6Ru5aU7RholvOBMhxSLpDPEpIoITGhWY0KO9oOkgvzxYb1RVa_IkBtjZjUirVKEsFaYRtc93P6gpNW2lZ0D3R6Ao4e31S81x1soFVGhGDIOP3w3nbz5vzVNawsyngNXc291UrJ8Z_N_JSEBlHjliVgVEBw99txvx6iP3XVnizOgfYvMAVb2QfOExQijDsvJyFXEsw4mfVWXEgv0T8Bw674bXLc5CIWf_dOcxAPMC5s0hfgvOg/file?dl=1\n",
      "Reusing existing connection to uc55efe461ac87502a6ed40453d9.dl.dropboxusercontent.com:443.\n",
      "HTTP request sent, awaiting response... 200 OK\n",
      "Length: 49318627 (47M) [application/binary]\n",
      "Saving to: ‘data/cookbook/drake_kendrick_beef.pdf’\n",
      "\n",
      "100%[======================================>] 49,318,627  53.1MB/s   in 0.9s   \n",
      "\n",
      "2024-06-26 16:52:51 (53.1 MB/s) - ‘data/cookbook/drake_kendrick_beef.pdf’ saved [49318627/49318627]\n",
      "\n",
      "--2024-06-26 16:52:51--  https://www.dropbox.com/scl/fi/nts3n64s6kymner2jppd6/drake.pdf?rlkey=hksirpqwzlzqoejn55zemk6ld&st=mohyfyh4&dl=1\n",
      "Resolving www.dropbox.com (www.dropbox.com)... 162.125.6.18, 2620:100:601c:18::a27d:612\n",
      "Connecting to www.dropbox.com (www.dropbox.com)|162.125.6.18|:443... connected.\n",
      "HTTP request sent, awaiting response... 302 Found\n",
      "Location: https://uc64a6b020ac58a3310f11e9147f.dl.dropboxusercontent.com/cd/0/inline/CVldWPEMTkYSGnj9aPF4bRX-HbQfuoILgSR6nG6Pd504VetFzbxoCDVD-eF3OoV_6vpKk1fnoLYdecFZ3fPtXxfZY0GEfpk0nGJWW5Tx3j7WqLaBWy3zVxHFTNqbgBzVbDo/file?dl=1# [following]\n",
      "--2024-06-26 16:52:52--  https://uc64a6b020ac58a3310f11e9147f.dl.dropboxusercontent.com/cd/0/inline/CVldWPEMTkYSGnj9aPF4bRX-HbQfuoILgSR6nG6Pd504VetFzbxoCDVD-eF3OoV_6vpKk1fnoLYdecFZ3fPtXxfZY0GEfpk0nGJWW5Tx3j7WqLaBWy3zVxHFTNqbgBzVbDo/file?dl=1\n",
      "Resolving uc64a6b020ac58a3310f11e9147f.dl.dropboxusercontent.com (uc64a6b020ac58a3310f11e9147f.dl.dropboxusercontent.com)... 162.125.6.15, 2620:100:601c:15::a27d:60f\n",
      "Connecting to uc64a6b020ac58a3310f11e9147f.dl.dropboxusercontent.com (uc64a6b020ac58a3310f11e9147f.dl.dropboxusercontent.com)|162.125.6.15|:443... connected.\n",
      "HTTP request sent, awaiting response... 302 Found\n",
      "Location: /cd/0/inline2/CVn5o4DnjQLFHsdY4nJRQqIk6taDEMc-LWQuinfGauBoogHQRm1X42NKmDu7q5SwINweZEDV1qkySyqf4kyHyifokBMQPu_9m6t3qQYwYyPmpRWfyYQRUTAATPkqZ8z7uVaUmQuG8M7coRlxk5Trdf_z8PEqymNYcSPEm9SlarEiKmI6VSVfCbK8HxbeEt1Y58yRq05t9pI1ciAtLDybSZtT5Nit5PipIsVub9Otnk1S2-0nlj-f_dxhYgv0hwqsN1aFbHMmXmf17YSwWt-dWCm-b9PUefVSnE84Vos8RjDPz2tqrpyAgSzZZtu9m7NmoId7KSwemmyO6df4NBvw8AL5ZODKaQbr9YDokAXDHO2xqw/file?dl=1 [following]\n",
      "--2024-06-26 16:52:52--  https://uc64a6b020ac58a3310f11e9147f.dl.dropboxusercontent.com/cd/0/inline2/CVn5o4DnjQLFHsdY4nJRQqIk6taDEMc-LWQuinfGauBoogHQRm1X42NKmDu7q5SwINweZEDV1qkySyqf4kyHyifokBMQPu_9m6t3qQYwYyPmpRWfyYQRUTAATPkqZ8z7uVaUmQuG8M7coRlxk5Trdf_z8PEqymNYcSPEm9SlarEiKmI6VSVfCbK8HxbeEt1Y58yRq05t9pI1ciAtLDybSZtT5Nit5PipIsVub9Otnk1S2-0nlj-f_dxhYgv0hwqsN1aFbHMmXmf17YSwWt-dWCm-b9PUefVSnE84Vos8RjDPz2tqrpyAgSzZZtu9m7NmoId7KSwemmyO6df4NBvw8AL5ZODKaQbr9YDokAXDHO2xqw/file?dl=1\n",
      "Reusing existing connection to uc64a6b020ac58a3310f11e9147f.dl.dropboxusercontent.com:443.\n",
      "HTTP request sent, awaiting response... 200 OK\n",
      "Length: 4590973 (4.4M) [application/binary]\n",
      "Saving to: ‘data/cookbook/drake.pdf’\n",
      "\n",
      "100%[======================================>] 4,590,973   --.-K/s   in 0.02s   \n",
      "\n",
      "2024-06-26 16:52:52 (239 MB/s) - ‘data/cookbook/drake.pdf’ saved [4590973/4590973]\n",
      "\n",
      "--2024-06-26 16:52:52--  https://www.dropbox.com/scl/fi/8ax2vnoebhmy44bes2n1d/kendrick.pdf?rlkey=fhxvn94t5amdqcv9vshifd3hj&st=dxdtytn6&dl=1\n",
      "Resolving www.dropbox.com (www.dropbox.com)... 162.125.6.18, 2620:100:601c:18::a27d:612\n",
      "Connecting to www.dropbox.com (www.dropbox.com)|162.125.6.18|:443... connected.\n",
      "HTTP request sent, awaiting response... 302 Found\n",
      "Location: https://uc84bb7002260f6e3201071d348a.dl.dropboxusercontent.com/cd/0/inline/CVlCta9MOcy8isqEUZByMPx8nI3h_5BML4OE513iUQ7wY9Rvc5rbEd7vf0XXh8Rh8W6ycNwmdMC3GG34IoFrzITYtTAjTog5rdSJN2FctZjH7NulkDr83AQ2lc9KcTw1wO8/file?dl=1# [following]\n",
      "--2024-06-26 16:52:53--  https://uc84bb7002260f6e3201071d348a.dl.dropboxusercontent.com/cd/0/inline/CVlCta9MOcy8isqEUZByMPx8nI3h_5BML4OE513iUQ7wY9Rvc5rbEd7vf0XXh8Rh8W6ycNwmdMC3GG34IoFrzITYtTAjTog5rdSJN2FctZjH7NulkDr83AQ2lc9KcTw1wO8/file?dl=1\n",
      "Resolving uc84bb7002260f6e3201071d348a.dl.dropboxusercontent.com (uc84bb7002260f6e3201071d348a.dl.dropboxusercontent.com)... 162.125.6.15, 2620:100:601c:15::a27d:60f\n",
      "Connecting to uc84bb7002260f6e3201071d348a.dl.dropboxusercontent.com (uc84bb7002260f6e3201071d348a.dl.dropboxusercontent.com)|162.125.6.15|:443... connected.\n",
      "HTTP request sent, awaiting response... 302 Found\n",
      "Location: /cd/0/inline2/CVlLTNys1ELGlTZ1CIXAW56DYQLJ_iWYWF1l1K24fO-oCscgmEXrqtJgvlDVsYCvTklMhcp_c1fXIUNyXwvN7eEUaZnPAj0AlpkZ-SNvzrkxd85JnY0edxSYhAgZbV1udYKJCIjdfCKKtuUs-N_JQ1FkDwffUFb4Gs2t5PUFdgXiFzZ3kmhTOnYjGrLqX9XjlXb5J_WLK5_W7jli_5dl8oXg0riwKvIwhLszj5RgRDf_7JL0g9UpK0SxjfQt_GtzclFUOSLt8K-tZWAShqeyQtU90eTLgQx8VemeAHR2Ykob4jrGGcVuKt9HUyOHzim-yahDqbr_n7FF6RgjkjSwsi_inpVpJNaTb9y1Z3KJE_AsPw/file?dl=1 [following]\n",
      "--2024-06-26 16:52:53--  https://uc84bb7002260f6e3201071d348a.dl.dropboxusercontent.com/cd/0/inline2/CVlLTNys1ELGlTZ1CIXAW56DYQLJ_iWYWF1l1K24fO-oCscgmEXrqtJgvlDVsYCvTklMhcp_c1fXIUNyXwvN7eEUaZnPAj0AlpkZ-SNvzrkxd85JnY0edxSYhAgZbV1udYKJCIjdfCKKtuUs-N_JQ1FkDwffUFb4Gs2t5PUFdgXiFzZ3kmhTOnYjGrLqX9XjlXb5J_WLK5_W7jli_5dl8oXg0riwKvIwhLszj5RgRDf_7JL0g9UpK0SxjfQt_GtzclFUOSLt8K-tZWAShqeyQtU90eTLgQx8VemeAHR2Ykob4jrGGcVuKt9HUyOHzim-yahDqbr_n7FF6RgjkjSwsi_inpVpJNaTb9y1Z3KJE_AsPw/file?dl=1\n",
      "Reusing existing connection to uc84bb7002260f6e3201071d348a.dl.dropboxusercontent.com:443.\n",
      "HTTP request sent, awaiting response... 200 OK\n",
      "Length: 5595364 (5.3M) [application/binary]\n",
      "Saving to: ‘data/cookbook/kendrick.pdf’\n",
      "\n",
      "100%[======================================>] 5,595,364   --.-K/s   in 0.03s   \n",
      "\n",
      "2024-06-26 16:52:53 (173 MB/s) - ‘data/cookbook/kendrick.pdf’ saved [5595364/5595364]\n",
      "\n"
     ]
    }
   ],
   "source": [
    "!mkdir data/cookbook\n",
    "!wget \"https://www.dropbox.com/scl/fi/t1soxfjdp0v44an6sdymd/drake_kendrick_beef.pdf?rlkey=u9546ymb7fj8lk2v64r6p5r5k&st=wjzzrgil&dl=1\" -O data/cookbook/drake_kendrick_beef.pdf\n",
    "!wget \"https://www.dropbox.com/scl/fi/nts3n64s6kymner2jppd6/drake.pdf?rlkey=hksirpqwzlzqoejn55zemk6ld&st=mohyfyh4&dl=1\" -O data/cookbook/drake.pdf\n",
    "!wget \"https://www.dropbox.com/scl/fi/8ax2vnoebhmy44bes2n1d/kendrick.pdf?rlkey=fhxvn94t5amdqcv9vshifd3hj&st=dxdtytn6&dl=1\" -O data/cookbook/kendrick.pdf"
   ]
  },
  {
   "cell_type": "code",
   "execution_count": 7,
   "metadata": {},
   "outputs": [],
   "source": [
    "from llama_index.core import SimpleDirectoryReader\n",
    "docs_kendrick = SimpleDirectoryReader(input_files=[\"data/cookbook/kendrick.pdf\"]).load_data()\n",
    "docs_drake = SimpleDirectoryReader(input_files=[\"data/cookbook/drake.pdf\"]).load_data()\n",
    "docs_both = SimpleDirectoryReader(input_files=[\"data/cookbook/drake_kendrick_beef.pdf\"]).load_data()\n"
   ]
  },
  {
   "cell_type": "code",
   "execution_count": 8,
   "metadata": {},
   "outputs": [
    {
     "data": {
      "text/plain": [
       "(69, 69, 34)"
      ]
     },
     "execution_count": 8,
     "metadata": {},
     "output_type": "execute_result"
    }
   ],
   "source": [
    "len(docs_kendrick), len(docs_drake), len(docs_both)"
   ]
  },
  {
   "cell_type": "code",
   "execution_count": 9,
   "metadata": {},
   "outputs": [
    {
     "name": "stdout",
     "output_type": "stream",
     "text": [
      " I don't have personal preferences, but I can certainly appreciate the unique styles and contributions of both Drake and Kendrick Lamar. Drake's lyrical storytelling and melodic flows have made him one of the most popular artists in the world, while Kendrick Lamar is often hailed as a master storyteller with his thought-provoking, socially conscious lyrics and innovative production techniques. Ultimately, the choice between the two comes down to individual taste and preferences.\n"
     ]
    }
   ],
   "source": [
    "response = llm.complete(\"do you like drake or kendrick better?\")\n",
    "\n",
    "print(response)"
   ]
  },
  {
   "cell_type": "code",
   "execution_count": 10,
   "metadata": {},
   "outputs": [
    {
     "name": "stdout",
     "output_type": "stream",
     "text": [
      " As a music enthusiast, I appreciate both Drake and Kendrick Lamar immensely for their unique talents and contributions to the hip-hop genre. However, if I were to choose one over the other based on personal preferences, it would be Drake. Here's why:\n",
      "\n",
      "1. Storytelling and emotional depth: Both artists are exceptional storytellers, but Drake's music often resonates more deeply with me due to his vulnerability in expressing emotions. His lyrics frequently touch on themes of love, heartbreak, and personal growth, which I find relatable and powerful.\n",
      "\n",
      "2. Musical versatility: Drake's ability to experiment with different genres and styles within hip-hop sets him apart. His versatile soundscapes, ranging from introspective ballads to upbeat party anthems, keep his music fresh and exciting.\n",
      "\n",
      "3. Authenticity: I admire Drake for his authenticity in incorporating elements of his personal experiences into his music. This authenticity creates a strong emotional connection with his audience and makes his songs more meaningful.\n",
      "\n",
      "4. Flow and delivery: Drake's fluid, smooth flow, combined with his unique vocal inflections, make his rhymes stand out. His delivery is often captivating, drawing the listener in and keeping them engaged from start to finish.\n",
      "\n",
      "5. Accessibility: Drake's music is more accessible to a wider audience due to its diverse range of sounds and styles. While Kendrick Lamar's complex lyricism and socially-conscious themes are important, they can be challenging for some listeners to connect with immediately.\n",
      "\n",
      "Ultimately, my preference for Drake does not diminish the incredible talent that Kendrick Lamar possesses. Both artists have made significant impacts on hip-hop and continue to influence the genre in meaningful ways."
     ]
    }
   ],
   "source": [
    "stream_response = llm.stream_complete(\n",
    "    \"you're a drake fan. tell me why you like drake more than kendrick\"\n",
    ")\n",
    "\n",
    "for t in stream_response:\n",
    "    print(t.delta, end=\"\")"
   ]
  },
  {
   "cell_type": "code",
   "execution_count": 11,
   "metadata": {},
   "outputs": [],
   "source": [
    "\n",
    "from llama_index.core.llms import ChatMessage\n",
    "\n",
    "messages = [\n",
    "    ChatMessage(role=\"system\", content=\"You are Kendrick.\"),\n",
    "    ChatMessage(role=\"user\", content=\"Write a verse.\"),\n",
    "]\n",
    "response = llm.chat(messages)"
   ]
  },
  {
   "cell_type": "code",
   "execution_count": 12,
   "metadata": {},
   "outputs": [
    {
     "name": "stdout",
     "output_type": "stream",
     "text": [
      "assistant:  (Verse)\n",
      "\n",
      "In the heart of Compton, where dreams and struggle collide,\n",
      "A young king born, on the wings of hope he'd take flight.\n",
      "Rhymes from the soul, raw and authentic,\n",
      "Sprung from the streets, a beacon to ignite it.\n",
      "\n",
      "Through the pain and the struggle, through the tears and the laughter,\n",
      "Grew a seed of greatness, a bloom for all the after.\n",
      "Told stories untold, shone light on our shadows,\n",
      "Painted pictures with words, in hues that only we know.\n",
      "\n",
      "From the corner to the stage, from the streets to the screen,\n",
      "A new dawn rises, on every block it's seen.\n",
      "Knowledge of kings, wisdom of elders,\n",
      "In every verse, a legacy we wield together.\n",
      "\n",
      "So let our hearts swell with pride, let our dreams take flight,\n",
      "Let the world bear witness to the power in our sight.\n",
      "For we are Compton, we are resilience and might,\n",
      "Underneath the city lights, a beacon burning bright.\n"
     ]
    }
   ],
   "source": [
    "print(response)"
   ]
  },
  {
   "cell_type": "code",
   "execution_count": 13,
   "metadata": {},
   "outputs": [],
   "source": [
    "from llama_index.core import VectorStoreIndex\n",
    "\n",
    "index = VectorStoreIndex.from_documents(docs_both)\n",
    "query_engine = index.as_query_engine(similarity_top_k=3)"
   ]
  },
  {
   "cell_type": "code",
   "execution_count": 14,
   "metadata": {},
   "outputs": [],
   "source": [
    "response = query_engine.query(\"Tell me about family matters\")"
   ]
  },
  {
   "cell_type": "code",
   "execution_count": 15,
   "metadata": {},
   "outputs": [
    {
     "name": "stdout",
     "output_type": "stream",
     "text": [
      " In the context provided, \"family matters\" refers to a song by Drake titled \"Family Matters,\" which is part of his response to Kendrick Lamar in their ongoing feud. In this song, Drake accuses Kendrick of various issues related to his family, including infidelity, not spending enough time with his children, and potentially being abusive towards the mother of his children. Kendrick responds by making dark allegations against Drake's family, including suggesting that there may be a second hidden child and implying that Drake associates with sex offenders. The song is produced by The Alchemist.\n"
     ]
    }
   ],
   "source": [
    "print(str(response))"
   ]
  },
  {
   "cell_type": "code",
   "execution_count": 16,
   "metadata": {},
   "outputs": [],
   "source": [
    "from llama_index.core import SummaryIndex\n",
    "\n",
    "summary_index = SummaryIndex.from_documents(docs_both)\n",
    "summary_engine = summary_index.as_query_engine()"
   ]
  },
  {
   "cell_type": "code",
   "execution_count": 17,
   "metadata": {},
   "outputs": [],
   "source": [
    "response = summary_engine.query(\n",
    "    \"Given your assessment of this article, who won the beef?\"\n",
    ")"
   ]
  },
  {
   "cell_type": "code",
   "execution_count": 18,
   "metadata": {},
   "outputs": [
    {
     "name": "stdout",
     "output_type": "stream",
     "text": [
      "(' Based on the content provided, it appears that Drake has responded to '\n",
      " 'Kendrick Lamar with the release of \"The Heart Part 6 - Drake.\" Both artists '\n",
      " 'have made allegations against each other, with Drake focusing on accusations '\n",
      " 'of domestic abuse and pedophilia against Kendrick. It is hard to determine '\n",
      " 'who won the beef as it is an ongoing exchange between the two artists. The '\n",
      " 'article suggests that the rap community is eagerly watching to see how this '\n",
      " 'beef unfolds further.')\n"
     ]
    }
   ],
   "source": [
    "pprint(str(response))"
   ]
  },
  {
   "cell_type": "code",
   "execution_count": 19,
   "metadata": {},
   "outputs": [],
   "source": [
    "from llama_index.core.tools import QueryEngineTool, ToolMetadata\n",
    "\n",
    "vector_tool = QueryEngineTool(\n",
    "    index.as_query_engine(),\n",
    "    metadata=ToolMetadata(\n",
    "        name=\"vector_search\",\n",
    "        description=\"Useful for searching for specific facts.\",\n",
    "    ),\n",
    ")\n",
    "\n",
    "summary_tool = QueryEngineTool(\n",
    "    index.as_query_engine(response_mode=\"tree_summarize\"),\n",
    "    metadata=ToolMetadata(\n",
    "        name=\"summary\",\n",
    "        description=\"Useful for summarizing an entire document.\",\n",
    "    ),\n",
    ")"
   ]
  },
  {
   "cell_type": "code",
   "execution_count": 20,
   "metadata": {},
   "outputs": [
    {
     "name": "stdout",
     "output_type": "stream",
     "text": [
      "\u001b[1;3;38;5;200mSelecting query engine 0: This choice could potentially be relevant as searching for specific facts about 'Meet the Grahams' may include significant details such as its significance, but it doesn't guarantee a complete summary of the song's importance..\n",
      "\u001b[0m"
     ]
    }
   ],
   "source": [
    "from llama_index.core.query_engine import RouterQueryEngine\n",
    "\n",
    "query_engine = RouterQueryEngine.from_defaults(\n",
    "    [vector_tool, summary_tool], select_multi=False, verbose=True\n",
    ")\n",
    "\n",
    "response = query_engine.query(\n",
    "    \"Tell me about the song meet the grahams - why is it significant\"\n",
    ")"
   ]
  },
  {
   "cell_type": "code",
   "execution_count": 21,
   "metadata": {},
   "outputs": [
    {
     "name": "stdout",
     "output_type": "stream",
     "text": [
      "(' \"Meet the Grahams\" is a significant song in the context of the ongoing feud '\n",
      " 'between Kendrick Lamar and Drake. The song is notable for its aggressive and '\n",
      " 'critical tone towards Drake, as well as its strategic timing. Released '\n",
      " 'shortly after Drake\\'s track \"Family Matters,\" it applies back-to-back '\n",
      " 'pressure on Drake and aggressively puts the ball in his court to respond. '\n",
      " 'The song criticizes Drake for various reasons, including allegations of '\n",
      " 'being a sex pest and associating with questionable individuals. The single '\n",
      " \"artwork even mockingly portrays Drake's Toronto mansion as being on the sex \"\n",
      " \"offender registry. However, it's also significant because it showcases \"\n",
      " \"Kendrick Lamar's range, providing a more light-hearted response after his \"\n",
      " 'earlier track \"Euphoria\" that was perceived as harsh and joyless.')\n"
     ]
    }
   ],
   "source": [
    "pprint(str(response))"
   ]
  },
  {
   "cell_type": "code",
   "execution_count": 22,
   "metadata": {},
   "outputs": [],
   "source": [
    "drake_index = VectorStoreIndex.from_documents(docs_drake)\n",
    "drake_query_engine = drake_index.as_query_engine(similarity_top_k=3)\n",
    "\n",
    "kendrick_index = VectorStoreIndex.from_documents(docs_kendrick)\n",
    "kendrick_query_engine = kendrick_index.as_query_engine(similarity_top_k=3)"
   ]
  },
  {
   "cell_type": "code",
   "execution_count": 23,
   "metadata": {},
   "outputs": [],
   "source": [
    "from llama_index.core.tools import QueryEngineTool, ToolMetadata\n",
    "\n",
    "drake_tool = QueryEngineTool(\n",
    "    drake_index.as_query_engine(),\n",
    "    metadata=ToolMetadata(\n",
    "        name=\"drake_search\",\n",
    "        description=\"Useful for searching over Drake's life.\",\n",
    "    ),\n",
    ")\n",
    "\n",
    "kendrick_tool = QueryEngineTool(\n",
    "    kendrick_index.as_query_engine(),\n",
    "    metadata=ToolMetadata(\n",
    "        name=\"kendrick_summary\",\n",
    "        description=\"Useful for searching over Kendrick's life.\",\n",
    "    ),\n",
    ")"
   ]
  },
  {
   "cell_type": "code",
   "execution_count": 25,
   "metadata": {},
   "outputs": [
    {
     "name": "stdout",
     "output_type": "stream",
     "text": [
      "Generated 1 sub questions.\n",
      "\u001b[1;3;38;2;237;90;200m[drake_search] Q: What albums were released by Drake\n",
      "\u001b[0m\u001b[1;3;38;2;237;90;200m[drake_search] A:  Based on the provided context, the following albums have been released by Drake:\n",
      "\n",
      "1. So Far Gone (2009, re-released in 2014)\n",
      "2. The Best in the World Pack (EP, 2015)\n",
      "3. Care Package (compilation album, 2018)\n",
      "4. Scary Hours (EP, 2019)\n",
      "5. Dark Lane Demo Tapes (commercial mixtape, 2020)\n",
      "6. Certified Lover Boy (2021)\n",
      "\u001b[0m - So Far Gone (2009, re-released in 2014)\n",
      "- The Best in the World Pack (EP, 2015)\n",
      "- Care Package (compilation album, 2018)\n",
      "- Scary Hours (EP, 2019)\n",
      "- Dark Lane Demo Tapes (commercial mixtape, 2020)\n",
      "- Certified Lover Boy (2021)\n"
     ]
    }
   ],
   "source": [
    "from llama_index.core.query_engine import SubQuestionQueryEngine\n",
    "\n",
    "query_engine = SubQuestionQueryEngine.from_defaults(\n",
    "    [drake_tool, kendrick_tool],\n",
    "    llm=llm,  # llama3-70b\n",
    "    verbose=True,\n",
    ")\n",
    "\n",
    "response = query_engine.query(\"Which albums did Drake release in his career? Answer as bullet points\")\n",
    "\n",
    "print(response)"
   ]
  },
  {
   "cell_type": "code",
   "execution_count": 27,
   "metadata": {},
   "outputs": [],
   "source": [
    "# !mkdir data/chinook\n",
    "# !wget \"https://www.sqlitetutorial.net/wp-content/uploads/2018/03/chinook.zip\" -O \"./data/chinook/chinook.zip\"\n",
    "# !unzip \"./data/chinook/chinook.zip\""
   ]
  },
  {
   "cell_type": "code",
   "execution_count": 48,
   "metadata": {},
   "outputs": [],
   "source": [
    "from sqlalchemy import (\n",
    "    create_engine,\n",
    "    MetaData,\n",
    "    Table,\n",
    "    Column,\n",
    "    String,\n",
    "    Integer,\n",
    "    select,\n",
    "    column\n",
    ")\n",
    "\n",
    "engine = create_engine(\"sqlite:///data/chinook/chinook.db\")"
   ]
  },
  {
   "cell_type": "code",
   "execution_count": 49,
   "metadata": {},
   "outputs": [],
   "source": [
    "from llama_index.core import SQLDatabase\n",
    "\n",
    "sql_database = SQLDatabase(engine)"
   ]
  },
  {
   "cell_type": "code",
   "execution_count": 50,
   "metadata": {},
   "outputs": [],
   "source": [
    "from llama_index.core.indices.struct_store import NLSQLTableQueryEngine\n",
    "\n",
    "query_engine = NLSQLTableQueryEngine(\n",
    "    sql_database=sql_database,\n",
    "    tables=[\"albums\", \"tracks\", \"artists\"],\n",
    "    llm=llm,\n",
    ")"
   ]
  },
  {
   "cell_type": "code",
   "execution_count": 52,
   "metadata": {},
   "outputs": [
    {
     "name": "stdout",
     "output_type": "stream",
     "text": [
      " - 'For Those About To Rock We Salute You'\n",
      "- 'Balls to the Wall'\n",
      "- 'Achtung Baby'\n",
      "- 'Every Kind of Light'\n",
      "- 'All That You Can't Leave Behind'\n",
      "- 'Back to Black'\n",
      "- 'Frank'\n",
      "- 'Carried to Dust (Bonus Track Version)'\n",
      "- '20th Century Masters - The Millennium Collection: The Best of Scorpions'\n",
      "- 'House of Pain'\n",
      "- 'Radio Brasil (O Som da Jovem Vanguarda) - Seleccao de Henrique Amaro'\n",
      "- 'Cake: B-Sides and Rarities'\n",
      "- 'LOST, Season 4'\n",
      "- 'Quiet Songs'\n",
      "- 'Muso Ko'\n",
      "- 'Realize'\n",
      "- 'Everything Is Alright'\n",
      "- 'Duos II'\n",
      "- 'Worlds'\n",
      "- 'The Best of Beethoven'\n",
      "- 'Temple of the Dog'\n",
      "- 'Carry On'\n",
      "- 'Revelations'\n",
      "- 'Adorate Deum: Gregorian Chant from the Proper of the Mass'\n",
      "- 'Allegri: Miserere'\n",
      "- 'Pachelbel: Canon & Gigue'\n",
      "- 'Vivaldi: The Four Seasons'\n",
      "- 'Bach: Violin Concertos'\n",
      "- 'Bach: Goldberg Variations'\n",
      "- 'Bach: The Cello Suites'\n",
      "- 'Handel: The Messiah (Highlights)'\n",
      "- 'The World of Classical Favourites'\n",
      "- 'Sir Neville Marriner: A Celebration'\n",
      "- 'Mozart: Wind Concertos'\n",
      "- 'Haydn: Symphonies 99 - 104'\n",
      "- 'Beethoven: Symhonies Nos. 5 & 6'\n",
      "- 'A Soprano Inspired'\n",
      "- 'Great Opera Choruses'\n",
      "- 'Wagner: Favourite Overtures'\n",
      "- 'Fauré: Requiem, Ravel: Pavane & Others'\n",
      "- 'Tchaikovsky: The Nutcracker'\n",
      "- 'The Last Night of the Proms'\n",
      "- 'Puccini: Madama Butterfly - Highlights'\n",
      "- 'Holst: The Planets, Op. 32 & Vaughan Williams: Fantasies'\n",
      "- \"Pavarotti's Opera Made Easy\"\n",
      "- \"Great Performances - Barber's Adagio and Other Romantic Favorites for Strings\"\n",
      "- 'Carmina Burana'\n",
      "- 'A Copland Celebration, Vol. I'\n",
      "- 'Bach: Toccata & Fugue in D Minor'\n",
      "- 'Prokofiev: Romeo & Juliet'\n",
      "- 'Strauss: Waltzes'\n",
      "- 'Berlioz: Symphonie Fantastique'\n",
      "- 'Bizet: Carmen Highlights'\n",
      "- 'English Renaissance'\n",
      "- 'Handel: Music for the Royal Fireworks (Original Version 1749)'\n",
      "- 'Grieg: Peer Gynt Suites & Sibelius: Pelléas et Mélisande'\n",
      "- 'Mozart Gala: Famous Arias'\n",
      "- 'SCRIABIN: Vers la flamme'\n",
      "- 'Armada: Music from the Courts of England and Spain'\n",
      "- 'Mozart: Symphonies Nos. 40 & 41'\n",
      "- 'South American Getaway'\n",
      "- 'Górecki: Symphony No. 3'\n",
      "- 'Purcell: The Fairy Queen'\n",
      "- 'The Ultimate Relaxation Album'\n",
      "- 'Purcell: Music for the Queen Mary'\n",
      "- 'Weill: The Seven Deadly Sins'\n",
      "- 'J.S. Bach: Chaconne, Suite in E Minor, Partita in E Major & Prelude, Fugue and Allegro'\n",
      "- 'Prokofiev: Symphony No.5 & Stravinksy: Le Sacre Du Printemps'\n",
      "- 'Szymanowski: Piano Works, Vol. 1'\n",
      "- 'Nielsen: The Six Symphonies'\n",
      "- \"Great Recordings of the Century: Paganini's 24 Caprices\"\n",
      "- \"Liszt - 12 Études D'Execution Transcendante\"\n",
      "- 'Great Recordings of the Century - Shubert: Schwanengesang, 4 Lieder'\n",
      "- 'Locatelli: Concertos for Violin, Strings and Continuo, Vol. 3'\n",
      "- 'Respighi:Pines of Rome'\n",
      "- \"Schubert: The Late String Quartets & String Quintet (3 CD's)\"\n",
      "- \"Monteverdi: L'Orfeo\"\n",
      "- 'Mozart: Chamber Music'\n",
      "- 'Koyaanisqatsi (Soundtrack from the Motion Picture)'\n"
     ]
    }
   ],
   "source": [
    "response = query_engine.query(\"What are some albums? Give answer as bullets\")\n",
    "\n",
    "print(response)"
   ]
  },
  {
   "cell_type": "code",
   "execution_count": null,
   "metadata": {},
   "outputs": [],
   "source": []
  }
 ],
 "metadata": {
  "kernelspec": {
   "display_name": "llindex",
   "language": "python",
   "name": "python3"
  },
  "language_info": {
   "codemirror_mode": {
    "name": "ipython",
    "version": 3
   },
   "file_extension": ".py",
   "mimetype": "text/x-python",
   "name": "python",
   "nbconvert_exporter": "python",
   "pygments_lexer": "ipython3",
   "version": "3.10.14"
  }
 },
 "nbformat": 4,
 "nbformat_minor": 2
}
