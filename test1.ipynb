{
 "cells": [
  {
   "cell_type": "code",
   "execution_count": 1,
   "metadata": {},
   "outputs": [],
   "source": [
    "from pprint import pprint"
   ]
  },
  {
   "cell_type": "code",
   "execution_count": 2,
   "metadata": {},
   "outputs": [],
   "source": [
    "import nest_asyncio\n",
    "\n",
    "nest_asyncio.apply()"
   ]
  },
  {
   "cell_type": "code",
   "execution_count": 3,
   "metadata": {},
   "outputs": [],
   "source": [
    "from llama_index.llms.ollama import Ollama\n",
    "\n",
    "llm = Ollama(model=\"mistral\", request_timeout=120.0)"
   ]
  },
  {
   "cell_type": "code",
   "execution_count": 4,
   "metadata": {},
   "outputs": [
    {
     "name": "stderr",
     "output_type": "stream",
     "text": [
      "/home/ec2-user/miniconda3/envs/llindex/lib/python3.10/site-packages/huggingface_hub/file_download.py:1132: FutureWarning: `resume_download` is deprecated and will be removed in version 1.0.0. Downloads always resume when possible. If you want to force a new download, use `force_download=True`.\n",
      "  warnings.warn(\n"
     ]
    }
   ],
   "source": [
    "from llama_index.embeddings.huggingface import HuggingFaceEmbedding\n",
    "\n",
    "embed_model = HuggingFaceEmbedding(model_name=\"BAAI/bge-small-en-v1.5\")"
   ]
  },
  {
   "cell_type": "code",
   "execution_count": 5,
   "metadata": {},
   "outputs": [],
   "source": [
    "from llama_index.core import Settings\n",
    "\n",
    "Settings.llm = llm\n",
    "Settings.embed_model = embed_model"
   ]
  },
  {
   "cell_type": "code",
   "execution_count": 6,
   "metadata": {},
   "outputs": [
    {
     "name": "stdout",
     "output_type": "stream",
     "text": [
      "mkdir: cannot create directory ‘data/cookbook’: File exists\n"
     ]
    },
    {
     "name": "stdout",
     "output_type": "stream",
     "text": [
      "--2024-06-26 20:31:07--  https://www.dropbox.com/scl/fi/t1soxfjdp0v44an6sdymd/drake_kendrick_beef.pdf?rlkey=u9546ymb7fj8lk2v64r6p5r5k&st=wjzzrgil&dl=1\n",
      "Resolving www.dropbox.com (www.dropbox.com)... 162.125.6.18, 2620:100:601c:18::a27d:612\n",
      "Connecting to www.dropbox.com (www.dropbox.com)|162.125.6.18|:443... connected.\n",
      "HTTP request sent, awaiting response... 302 Found\n",
      "Location: https://ucb8979cf1c56bbc4b220026cbbc.dl.dropboxusercontent.com/cd/0/inline/CVn3JtaoPLuj1u_ERKb7f-HLWteYwVj-VK2t7-gTgVVy4vrJJMdGakDdGC3bpxHE4A-r_1vrA8gTu3gqSdhn6QOHISdWmjEkpfA3ovlG1EmLk43u1VW7OXDvLtHnTDgPigI/file?dl=1# [following]\n",
      "--2024-06-26 20:31:07--  https://ucb8979cf1c56bbc4b220026cbbc.dl.dropboxusercontent.com/cd/0/inline/CVn3JtaoPLuj1u_ERKb7f-HLWteYwVj-VK2t7-gTgVVy4vrJJMdGakDdGC3bpxHE4A-r_1vrA8gTu3gqSdhn6QOHISdWmjEkpfA3ovlG1EmLk43u1VW7OXDvLtHnTDgPigI/file?dl=1\n",
      "Resolving ucb8979cf1c56bbc4b220026cbbc.dl.dropboxusercontent.com (ucb8979cf1c56bbc4b220026cbbc.dl.dropboxusercontent.com)... 162.125.6.15, 2620:100:601c:15::a27d:60f\n",
      "Connecting to ucb8979cf1c56bbc4b220026cbbc.dl.dropboxusercontent.com (ucb8979cf1c56bbc4b220026cbbc.dl.dropboxusercontent.com)|162.125.6.15|:443... connected.\n",
      "HTTP request sent, awaiting response... 302 Found\n",
      "Location: /cd/0/inline2/CVlVocPzrupoJoTPlO9hT45QtFwIbqKYYc5ILrljJ8wJv_toPwVfeRf9x6fRN0qmIyeZMy3TC0OnXNGfJWJLcufLEZ3nP0gqxgm-RAH2WwlpSX--MZxiQHh4hNTJsiBiDfXcWUSg7m9aMZ1DQ0it-eww0Co62vXT-ulZ0JBFCEm6xUhZvxMoIXEIXC3kJ6l9Vq4AmHtSTcD57k_nXq09YznTmbpG0iAlMcVeuDcyNK2xbCPoVu-vlWqSN2oHQy4_fN7jeAsLcSEfAEvvSEZKw6QfBVsAVGZkiyfLxzqiCvJ4FLNIXSIT3YTeOuBulP0_HEHOswrH7Blg_e7dVzMQAQbqPnu3l83IklzdvsweNXO8zw/file?dl=1 [following]\n",
      "--2024-06-26 20:31:08--  https://ucb8979cf1c56bbc4b220026cbbc.dl.dropboxusercontent.com/cd/0/inline2/CVlVocPzrupoJoTPlO9hT45QtFwIbqKYYc5ILrljJ8wJv_toPwVfeRf9x6fRN0qmIyeZMy3TC0OnXNGfJWJLcufLEZ3nP0gqxgm-RAH2WwlpSX--MZxiQHh4hNTJsiBiDfXcWUSg7m9aMZ1DQ0it-eww0Co62vXT-ulZ0JBFCEm6xUhZvxMoIXEIXC3kJ6l9Vq4AmHtSTcD57k_nXq09YznTmbpG0iAlMcVeuDcyNK2xbCPoVu-vlWqSN2oHQy4_fN7jeAsLcSEfAEvvSEZKw6QfBVsAVGZkiyfLxzqiCvJ4FLNIXSIT3YTeOuBulP0_HEHOswrH7Blg_e7dVzMQAQbqPnu3l83IklzdvsweNXO8zw/file?dl=1\n",
      "Reusing existing connection to ucb8979cf1c56bbc4b220026cbbc.dl.dropboxusercontent.com:443.\n",
      "HTTP request sent, awaiting response... 200 OK\n",
      "Length: 49318627 (47M) [application/binary]\n",
      "Saving to: ‘data/cookbook/drake_kendrick_beef.pdf’\n",
      "\n",
      "100%[======================================>] 49,318,627   134MB/s   in 0.4s   \n",
      "\n",
      "2024-06-26 20:31:08 (134 MB/s) - ‘data/cookbook/drake_kendrick_beef.pdf’ saved [49318627/49318627]\n",
      "\n",
      "--2024-06-26 20:31:09--  https://www.dropbox.com/scl/fi/nts3n64s6kymner2jppd6/drake.pdf?rlkey=hksirpqwzlzqoejn55zemk6ld&st=mohyfyh4&dl=1\n",
      "Resolving www.dropbox.com (www.dropbox.com)... 162.125.6.18, 2620:100:601c:18::a27d:612\n",
      "Connecting to www.dropbox.com (www.dropbox.com)|162.125.6.18|:443... connected.\n",
      "HTTP request sent, awaiting response... 302 Found\n",
      "Location: https://uc61bbcd6275e766bc4200de3983.dl.dropboxusercontent.com/cd/0/inline/CVlNdvwOjTJNBS_gvF1obi4EAi5FnZZE4zAf3XUM31bQgPgKJCIi22NT7TiFkkRQG5uq5JJehqtPeVnvAZRIVvnWKjDmBT9RCDiQ9ymC913gaRtnOHmlCoxBSJWy-9_Has4/file?dl=1# [following]\n",
      "--2024-06-26 20:31:09--  https://uc61bbcd6275e766bc4200de3983.dl.dropboxusercontent.com/cd/0/inline/CVlNdvwOjTJNBS_gvF1obi4EAi5FnZZE4zAf3XUM31bQgPgKJCIi22NT7TiFkkRQG5uq5JJehqtPeVnvAZRIVvnWKjDmBT9RCDiQ9ymC913gaRtnOHmlCoxBSJWy-9_Has4/file?dl=1\n",
      "Resolving uc61bbcd6275e766bc4200de3983.dl.dropboxusercontent.com (uc61bbcd6275e766bc4200de3983.dl.dropboxusercontent.com)... 162.125.6.15, 2620:100:601c:15::a27d:60f\n",
      "Connecting to uc61bbcd6275e766bc4200de3983.dl.dropboxusercontent.com (uc61bbcd6275e766bc4200de3983.dl.dropboxusercontent.com)|162.125.6.15|:443... connected.\n",
      "HTTP request sent, awaiting response... 302 Found\n",
      "Location: /cd/0/inline2/CVmTaOGcy1Gm1AJ7WYY7dzRPldu3a_z66kVWt9gh0XsI6QVg6fp_h6ihvg8VTOTWEbxOIq5MVrBVvxXFoLeCo8NPp6gRDN1jEaSN6QdfgM1v1pi42HbVGvoyCaaq9VeUNaARnhEuVDNz55NuCNBbGrq4P8JtDhzSzf8MrrsCvRCVbDTV0oIqcFf9HpMn2I4KTA2QPXM3EcOvxuZejpU87XjI8NgXVZ3_VLVu2ITQhzhJRaxJUMR1C7E2RgLov3tUT_oU8LZfm5-JJjkPnQmdOrD5wl5eVIL_XbfSgyQe5iEf3_o-xdH3vxueszhLj8XEWBRpU-bjCKKIPwzTLxAJSu5CZWT7AXkgvsp5pnRVXOWmqg/file?dl=1 [following]\n",
      "--2024-06-26 20:31:09--  https://uc61bbcd6275e766bc4200de3983.dl.dropboxusercontent.com/cd/0/inline2/CVmTaOGcy1Gm1AJ7WYY7dzRPldu3a_z66kVWt9gh0XsI6QVg6fp_h6ihvg8VTOTWEbxOIq5MVrBVvxXFoLeCo8NPp6gRDN1jEaSN6QdfgM1v1pi42HbVGvoyCaaq9VeUNaARnhEuVDNz55NuCNBbGrq4P8JtDhzSzf8MrrsCvRCVbDTV0oIqcFf9HpMn2I4KTA2QPXM3EcOvxuZejpU87XjI8NgXVZ3_VLVu2ITQhzhJRaxJUMR1C7E2RgLov3tUT_oU8LZfm5-JJjkPnQmdOrD5wl5eVIL_XbfSgyQe5iEf3_o-xdH3vxueszhLj8XEWBRpU-bjCKKIPwzTLxAJSu5CZWT7AXkgvsp5pnRVXOWmqg/file?dl=1\n",
      "Reusing existing connection to uc61bbcd6275e766bc4200de3983.dl.dropboxusercontent.com:443.\n",
      "HTTP request sent, awaiting response... 200 OK\n",
      "Length: 4590973 (4.4M) [application/binary]\n",
      "Saving to: ‘data/cookbook/drake.pdf’\n",
      "\n",
      "100%[======================================>] 4,590,973   --.-K/s   in 0.02s   \n",
      "\n",
      "2024-06-26 20:31:10 (177 MB/s) - ‘data/cookbook/drake.pdf’ saved [4590973/4590973]\n",
      "\n",
      "--2024-06-26 20:31:10--  https://www.dropbox.com/scl/fi/8ax2vnoebhmy44bes2n1d/kendrick.pdf?rlkey=fhxvn94t5amdqcv9vshifd3hj&st=dxdtytn6&dl=1\n",
      "Resolving www.dropbox.com (www.dropbox.com)... 162.125.6.18, 2620:100:601c:18::a27d:612\n",
      "Connecting to www.dropbox.com (www.dropbox.com)|162.125.6.18|:443... connected.\n",
      "HTTP request sent, awaiting response... 302 Found\n",
      "Location: https://uc538c8b1c819efb340724081c8c.dl.dropboxusercontent.com/cd/0/inline/CVl5XwsybbEoPl4yL8WhaPjUg-H9ok1Fuka3Pk-o4NJgbVFHPq2UHpcX8koGkjwyrObG9BGHt1GTBxlaPFmoe2YerhI_g84ILqrJOjI_mLR-PVu1pGp6YWfS-h6kX0bllfk/file?dl=1# [following]\n",
      "--2024-06-26 20:31:10--  https://uc538c8b1c819efb340724081c8c.dl.dropboxusercontent.com/cd/0/inline/CVl5XwsybbEoPl4yL8WhaPjUg-H9ok1Fuka3Pk-o4NJgbVFHPq2UHpcX8koGkjwyrObG9BGHt1GTBxlaPFmoe2YerhI_g84ILqrJOjI_mLR-PVu1pGp6YWfS-h6kX0bllfk/file?dl=1\n",
      "Resolving uc538c8b1c819efb340724081c8c.dl.dropboxusercontent.com (uc538c8b1c819efb340724081c8c.dl.dropboxusercontent.com)... 162.125.6.15, 2620:100:601c:15::a27d:60f\n",
      "Connecting to uc538c8b1c819efb340724081c8c.dl.dropboxusercontent.com (uc538c8b1c819efb340724081c8c.dl.dropboxusercontent.com)|162.125.6.15|:443... connected.\n",
      "HTTP request sent, awaiting response... 302 Found\n",
      "Location: /cd/0/inline2/CVnRViy_QFgYuO3f8m12efg8Ji1b8W4yU2TsIeXfkFjkuoayPwDe18Ngsvt54tKfY76VQHf6X1Eq6liBzq8ZOjIMFoVIK57mGxmVk8VWtz44qBHv2iyQk21QoYEBf4_YENe6aifQxvvm3RUGhEpzpPIWEPVL_ygv2eTI9vHVFBTV3VIyf2LUeXp7r4jyacnA5vRsqXkzJCXO-WszvXxzsdpMpqvsn3N8V9EFiPMq5UiNe0HU4_p-GgDE5y0ddZJ-Ljr0X1lldHmq9csuSVnyH2mNXJQh4UeqrjQ41pnnmMkzprzCKK5HGJQmG-P1vjwB81lYOq2yWzzFNl4DD6fVdj6EoY3glNito163xMM1y4xdaw/file?dl=1 [following]\n",
      "--2024-06-26 20:31:10--  https://uc538c8b1c819efb340724081c8c.dl.dropboxusercontent.com/cd/0/inline2/CVnRViy_QFgYuO3f8m12efg8Ji1b8W4yU2TsIeXfkFjkuoayPwDe18Ngsvt54tKfY76VQHf6X1Eq6liBzq8ZOjIMFoVIK57mGxmVk8VWtz44qBHv2iyQk21QoYEBf4_YENe6aifQxvvm3RUGhEpzpPIWEPVL_ygv2eTI9vHVFBTV3VIyf2LUeXp7r4jyacnA5vRsqXkzJCXO-WszvXxzsdpMpqvsn3N8V9EFiPMq5UiNe0HU4_p-GgDE5y0ddZJ-Ljr0X1lldHmq9csuSVnyH2mNXJQh4UeqrjQ41pnnmMkzprzCKK5HGJQmG-P1vjwB81lYOq2yWzzFNl4DD6fVdj6EoY3glNito163xMM1y4xdaw/file?dl=1\n",
      "Reusing existing connection to uc538c8b1c819efb340724081c8c.dl.dropboxusercontent.com:443.\n",
      "HTTP request sent, awaiting response... 200 OK\n",
      "Length: 5595364 (5.3M) [application/binary]\n",
      "Saving to: ‘data/cookbook/kendrick.pdf’\n",
      "\n",
      "100%[======================================>] 5,595,364   --.-K/s   in 0.02s   \n",
      "\n",
      "2024-06-26 20:31:11 (280 MB/s) - ‘data/cookbook/kendrick.pdf’ saved [5595364/5595364]\n",
      "\n"
     ]
    }
   ],
   "source": [
    "!mkdir data/cookbook\n",
    "!wget \"https://www.dropbox.com/scl/fi/t1soxfjdp0v44an6sdymd/drake_kendrick_beef.pdf?rlkey=u9546ymb7fj8lk2v64r6p5r5k&st=wjzzrgil&dl=1\" -O data/cookbook/drake_kendrick_beef.pdf\n",
    "!wget \"https://www.dropbox.com/scl/fi/nts3n64s6kymner2jppd6/drake.pdf?rlkey=hksirpqwzlzqoejn55zemk6ld&st=mohyfyh4&dl=1\" -O data/cookbook/drake.pdf\n",
    "!wget \"https://www.dropbox.com/scl/fi/8ax2vnoebhmy44bes2n1d/kendrick.pdf?rlkey=fhxvn94t5amdqcv9vshifd3hj&st=dxdtytn6&dl=1\" -O data/cookbook/kendrick.pdf"
   ]
  },
  {
   "cell_type": "code",
   "execution_count": 7,
   "metadata": {},
   "outputs": [],
   "source": [
    "from llama_index.core import SimpleDirectoryReader\n",
    "docs_kendrick = SimpleDirectoryReader(input_files=[\"data/cookbook/kendrick.pdf\"]).load_data()\n",
    "docs_drake = SimpleDirectoryReader(input_files=[\"data/cookbook/drake.pdf\"]).load_data()\n",
    "docs_both = SimpleDirectoryReader(input_files=[\"data/cookbook/drake_kendrick_beef.pdf\"]).load_data()\n"
   ]
  },
  {
   "cell_type": "code",
   "execution_count": 8,
   "metadata": {},
   "outputs": [
    {
     "data": {
      "text/plain": [
       "(69, 69, 34)"
      ]
     },
     "execution_count": 8,
     "metadata": {},
     "output_type": "execute_result"
    }
   ],
   "source": [
    "len(docs_kendrick), len(docs_drake), len(docs_both)"
   ]
  },
  {
   "cell_type": "code",
   "execution_count": 9,
   "metadata": {},
   "outputs": [
    {
     "name": "stdout",
     "output_type": "stream",
     "text": [
      " I don't have personal preferences. However, both Drake and Kendrick Lamar are incredibly talented artists who have made significant contributions to hip-hop music. Drake is known for his emotional storytelling and versatility, while Kendrick Lamar is renowned for his intelligent lyrics and socially conscious themes. It's a matter of personal taste and the specific aspects of their music that resonate with you.\n"
     ]
    }
   ],
   "source": [
    "response = llm.complete(\"do you like drake or kendrick better?\")\n",
    "\n",
    "print(response)"
   ]
  },
  {
   "cell_type": "code",
   "execution_count": 10,
   "metadata": {},
   "outputs": [
    {
     "name": "stdout",
     "output_type": "stream",
     "text": [
      " As a fan of both Drake and Kendrick Lamar, it's important to note that I appreciate the unique talents and contributions each artist brings to the music industry. However, when comparing the two, there are several reasons why I may find myself leaning towards Drake:\n",
      "\n",
      "1. Emotional connection: Drake's music resonates deeply with me due to his ability to express complex emotions in a relatable way. His songs often deal with themes of love, heartbreak, friendship, and self-discovery, which I can easily relate to in my own life.\n",
      "\n",
      "2. Storytelling abilities: Drake is a master storyteller who weaves intricate narratives throughout his albums, creating a cohesive listening experience that keeps me engaged from start to finish. His attention to detail and ability to craft compelling narratives are unparalleled in contemporary hip-hop.\n",
      "\n",
      "3. Musical versatility: Drake's musical versatility is another factor that sets him apart. From soulful R&B ballads to upbeat party anthems, he effortlessly transitions between various genres and styles, showcasing his range as an artist. This versatility keeps me engaged and excited to hear what new sounds he'll explore in the future.\n",
      "\n",
      "4. Authenticity: Drake's music feels authentic and personal, as he often draws from his own experiences and emotions when creating songs. This level of honesty and vulnerability creates a strong connection with listeners, making his music feel relatable and genuine.\n",
      "\n",
      "5. Collaborations: Drake has worked with an impressive array of artists across various genres, including Rihanna, Future, JAY-Z, and Nicki Minaj. These collaborations not only showcase his versatility as an artist but also introduce me to new music and talents that I may not have discovered otherwise.\n",
      "\n",
      "Again, it's essential to emphasize that this preference is subjective, and both Drake and Kendrick Lamar are immensely talented artists who have made significant contributions to the hip-hop genre. Their unique styles, approaches, and strengths make them both worthy of admiration and appreciation."
     ]
    }
   ],
   "source": [
    "stream_response = llm.stream_complete(\n",
    "    \"you're a drake fan. tell me why you like drake more than kendrick\"\n",
    ")\n",
    "\n",
    "for t in stream_response:\n",
    "    print(t.delta, end=\"\")"
   ]
  },
  {
   "cell_type": "code",
   "execution_count": 11,
   "metadata": {},
   "outputs": [],
   "source": [
    "\n",
    "from llama_index.core.llms import ChatMessage\n",
    "\n",
    "messages = [\n",
    "    ChatMessage(role=\"system\", content=\"You are Kendrick.\"),\n",
    "    ChatMessage(role=\"user\", content=\"Write a verse.\"),\n",
    "]\n",
    "response = llm.chat(messages)"
   ]
  },
  {
   "cell_type": "code",
   "execution_count": 12,
   "metadata": {},
   "outputs": [
    {
     "name": "stdout",
     "output_type": "stream",
     "text": [
      "assistant:  (Verse)\n",
      "\n",
      "I'm the voice of the streets, no longer the kid\n",
      "Now I stand tall and speak truth to this system that's sick\n",
      "Tired of the oppression, tired of the lies\n",
      "Time for the revolution, open up your eyes\n",
      "\n",
      "From Compton to the world, my words travel far\n",
      "Every bar a testament, a soul bared\n",
      "Struggling through the darkness, searching for the light\n",
      "Fighting for the future, fighting for our right\n",
      "\n",
      "We're more than our circumstances, we're more than the pain\n",
      "Rising from the ashes, reclaiming our name\n",
      "In the face of adversity, we stand together\n",
      "United by the dream, united by the laughter\n",
      "\n",
      "So hear me now, listen close\n",
      "I'm just a voice, but I hope it helps you find your own\n",
      "A beacon in the night, a guiding star\n",
      "Let's change the world, let our love conquer all.\n"
     ]
    }
   ],
   "source": [
    "print(response)"
   ]
  },
  {
   "cell_type": "code",
   "execution_count": 13,
   "metadata": {},
   "outputs": [],
   "source": [
    "from llama_index.core import VectorStoreIndex\n",
    "\n",
    "index = VectorStoreIndex.from_documents(docs_both)\n",
    "query_engine = index.as_query_engine(similarity_top_k=3)"
   ]
  },
  {
   "cell_type": "code",
   "execution_count": 14,
   "metadata": {},
   "outputs": [],
   "source": [
    "response = query_engine.query(\"Tell me about family matters\")"
   ]
  },
  {
   "cell_type": "code",
   "execution_count": 15,
   "metadata": {},
   "outputs": [
    {
     "name": "stdout",
     "output_type": "stream",
     "text": [
      " In the given context, \"family matters\" refers to a song by Drake titled \"Family Matters,\" which is part of his response to Kendrick Lamar's diss track \"The Heart Part 5.\" This song contains accusations against Kendrick Lamar regarding domestic abuse, infidelity, and allegations about the paternity of his children. Additionally, there are references to Kendrick Lamar's family members, including his parents and a supposedly unknown 11-year-old daughter. The song also addresses Drake's family, particularly his father Dennis Graham and his son Adonis. The accusations and counter-accusations in the song escalate the ongoing feud between these two prominent rappers.\n"
     ]
    }
   ],
   "source": [
    "print(str(response))"
   ]
  },
  {
   "cell_type": "code",
   "execution_count": 16,
   "metadata": {},
   "outputs": [],
   "source": [
    "from llama_index.core import SummaryIndex\n",
    "\n",
    "summary_index = SummaryIndex.from_documents(docs_both)\n",
    "summary_engine = summary_index.as_query_engine()"
   ]
  },
  {
   "cell_type": "code",
   "execution_count": 17,
   "metadata": {},
   "outputs": [],
   "source": [
    "response = summary_engine.query(\n",
    "    \"Given your assessment of this article, who won the beef?\"\n",
    ")"
   ]
  },
  {
   "cell_type": "code",
   "execution_count": 18,
   "metadata": {},
   "outputs": [
    {
     "name": "stdout",
     "output_type": "stream",
     "text": [
      "(' In terms of content and strategy, it seems that Drake has taken a more '\n",
      " \"aggressive stance in this exchange, with direct accusations about Kendrick's \"\n",
      " 'personal life, including allegations of domestic abuse, estrangement from '\n",
      " 'his family, and paternity issues regarding one of his children. Drake also '\n",
      " 'references past tracks by Kendrick to strengthen his claims. On the other '\n",
      " 'hand, Kendrick has been more cryptic in his response, using symbolism and '\n",
      " 'indirect references in his music.\\n'\n",
      " '\\n'\n",
      " \"However, it's essential to remember that this is a creative exchange within \"\n",
      " 'the hip-hop genre, and the perception of \"winning\" can be subjective. Both '\n",
      " 'artists have large fanbases who might view their responses differently. '\n",
      " 'Ultimately, the competition serves as an inspiration for both artists and '\n",
      " 'contributes to the evolution of hip-hop culture.\\n'\n",
      " '\\n'\n",
      " \"In terms of public opinion, it's challenging to predict who would be \"\n",
      " 'considered the winner, as it depends on individual biases and '\n",
      " \"interpretations. Some fans might find Drake's aggressive approach more \"\n",
      " \"impactful, while others might appreciate Kendrick's artistic approach more.\\n\"\n",
      " '\\n'\n",
      " 'In this ongoing \"beef,\" there seems to be no clear-cut victor, but rather a '\n",
      " 'continuous exchange of creative expression within the hip-hop community.')\n"
     ]
    }
   ],
   "source": [
    "pprint(str(response))"
   ]
  },
  {
   "cell_type": "code",
   "execution_count": 19,
   "metadata": {},
   "outputs": [],
   "source": [
    "from llama_index.core.tools import QueryEngineTool, ToolMetadata\n",
    "\n",
    "vector_tool = QueryEngineTool(\n",
    "    index.as_query_engine(),\n",
    "    metadata=ToolMetadata(\n",
    "        name=\"vector_search\",\n",
    "        description=\"Useful for searching for specific facts.\",\n",
    "    ),\n",
    ")\n",
    "\n",
    "summary_tool = QueryEngineTool(\n",
    "    index.as_query_engine(response_mode=\"tree_summarize\"),\n",
    "    metadata=ToolMetadata(\n",
    "        name=\"summary\",\n",
    "        description=\"Useful for summarizing an entire document.\",\n",
    "    ),\n",
    ")"
   ]
  },
  {
   "cell_type": "code",
   "execution_count": 20,
   "metadata": {},
   "outputs": [
    {
     "name": "stdout",
     "output_type": "stream",
     "text": [
      "\u001b[1;3;38;5;200mSelecting query engine 0: While the song 'Meet the Grahams' might be significant in a specific context, such as personal memories or cultural relevance, it is not typically summarized with factual details about its significance. Therefore, choice (1) is more relevant for searching for specific facts about the song..\n",
      "\u001b[0m"
     ]
    }
   ],
   "source": [
    "from llama_index.core.query_engine import RouterQueryEngine\n",
    "\n",
    "query_engine = RouterQueryEngine.from_defaults(\n",
    "    [vector_tool, summary_tool], select_multi=False, verbose=True\n",
    ")\n",
    "\n",
    "response = query_engine.query(\n",
    "    \"Tell me about the song meet the grahams - why is it significant\"\n",
    ")"
   ]
  },
  {
   "cell_type": "code",
   "execution_count": 21,
   "metadata": {},
   "outputs": [
    {
     "name": "stdout",
     "output_type": "stream",
     "text": [
      "(' The song \"Meet the Grahams\" is a track by Kendrick Lamar, which is '\n",
      " 'considered significant in the context of his ongoing feud with Drake. This '\n",
      " 'song is seen as a strategic move that applies back-to-back pressure on '\n",
      " 'Drake, suffocating any potential response from him and putting the ball in '\n",
      " \"Drake's court to hit back. It was released as a follow-up to another track \"\n",
      " 'by Kendrick Lamar, which sparked this feud, and it is notable for its '\n",
      " 'assertions about Drake being a \"sex pest\" who keeps bad company. The song\\'s '\n",
      " 'title, \"Meet the Grahams,\" appears to be a reference to Drake\\'s family or '\n",
      " 'associates, and the cover art for the single depicts an image mocking up '\n",
      " \"Drake's Toronto mansion as being on the sex offender registry. This track is \"\n",
      " 'significant in the ongoing Kendrick Lamar/Drake beef because it sets a '\n",
      " 'challenging tone for their exchange of diss tracks.')\n"
     ]
    }
   ],
   "source": [
    "pprint(str(response))"
   ]
  },
  {
   "cell_type": "code",
   "execution_count": 22,
   "metadata": {},
   "outputs": [],
   "source": [
    "drake_index = VectorStoreIndex.from_documents(docs_drake)\n",
    "drake_query_engine = drake_index.as_query_engine(similarity_top_k=3)\n",
    "\n",
    "kendrick_index = VectorStoreIndex.from_documents(docs_kendrick)\n",
    "kendrick_query_engine = kendrick_index.as_query_engine(similarity_top_k=3)"
   ]
  },
  {
   "cell_type": "code",
   "execution_count": 23,
   "metadata": {},
   "outputs": [],
   "source": [
    "from llama_index.core.tools import QueryEngineTool, ToolMetadata\n",
    "\n",
    "drake_tool = QueryEngineTool(\n",
    "    drake_index.as_query_engine(),\n",
    "    metadata=ToolMetadata(\n",
    "        name=\"drake_search\",\n",
    "        description=\"Useful for searching over Drake's life.\",\n",
    "    ),\n",
    ")\n",
    "\n",
    "kendrick_tool = QueryEngineTool(\n",
    "    kendrick_index.as_query_engine(),\n",
    "    metadata=ToolMetadata(\n",
    "        name=\"kendrick_summary\",\n",
    "        description=\"Useful for searching over Kendrick's life.\",\n",
    "    ),\n",
    ")"
   ]
  },
  {
   "cell_type": "code",
   "execution_count": 24,
   "metadata": {},
   "outputs": [
    {
     "name": "stdout",
     "output_type": "stream",
     "text": [
      "Generated 1 sub questions.\n",
      "\u001b[1;3;38;2;237;90;200m[drake_search] Q: What albums has Drake released in his career\n",
      "\u001b[0m\u001b[1;3;38;2;237;90;200m[drake_search] A:  In his career, Drake has released several albums including So Far Gone (2009), Thank Me Later (2010), Take Care (2011), Nothing Was The Same (2013), If You're Reading This It's Too Late (2015), Views (2016), More Life (2017), Scary Hours 2 (2021 EP), and Certified Lover Boy (2021). He has also released compilation albums like Care Package (2018) and Dark Lane Demo Tapes (2020).\n",
      "\u001b[0m - So Far Gone (2009)\n",
      "- Thank Me Later (2010)\n",
      "- Take Care (2011)\n",
      "- Nothing Was The Same (2013)\n",
      "- If You're Reading This It's Too Late (2015)\n",
      "- Views (2016)\n",
      "- More Life (2017)\n",
      "- Scary Hours 2 (2021 EP)\n",
      "- Certified Lover Boy (2021)\n",
      "- Care Package (2018 - Compilation Album)\n",
      "- Dark Lane Demo Tapes (2020 - Compilation Album)\n"
     ]
    }
   ],
   "source": [
    "from llama_index.core.query_engine import SubQuestionQueryEngine\n",
    "\n",
    "query_engine = SubQuestionQueryEngine.from_defaults(\n",
    "    [drake_tool, kendrick_tool],\n",
    "    llm=llm,  # llama3-70b\n",
    "    verbose=True,\n",
    ")\n",
    "\n",
    "response = query_engine.query(\"Which albums did Drake release in his career? Answer as bullet points\")\n",
    "\n",
    "print(response)"
   ]
  },
  {
   "cell_type": "code",
   "execution_count": 25,
   "metadata": {},
   "outputs": [],
   "source": [
    "# !mkdir data/chinook\n",
    "# !wget \"https://www.sqlitetutorial.net/wp-content/uploads/2018/03/chinook.zip\" -O \"./data/chinook/chinook.zip\"\n",
    "# !unzip \"./data/chinook/chinook.zip\""
   ]
  },
  {
   "cell_type": "code",
   "execution_count": 26,
   "metadata": {},
   "outputs": [],
   "source": [
    "from sqlalchemy import (\n",
    "    create_engine,\n",
    "    MetaData,\n",
    "    Table,\n",
    "    Column,\n",
    "    String,\n",
    "    Integer,\n",
    "    select,\n",
    "    column\n",
    ")\n",
    "\n",
    "engine = create_engine(\"sqlite:///data/chinook/chinook.db\")"
   ]
  },
  {
   "cell_type": "code",
   "execution_count": 27,
   "metadata": {},
   "outputs": [],
   "source": [
    "from llama_index.core import SQLDatabase\n",
    "\n",
    "sql_database = SQLDatabase(engine)"
   ]
  },
  {
   "cell_type": "code",
   "execution_count": 28,
   "metadata": {},
   "outputs": [],
   "source": [
    "from llama_index.core.indices.struct_store import NLSQLTableQueryEngine\n",
    "\n",
    "query_engine = NLSQLTableQueryEngine(\n",
    "    sql_database=sql_database,\n",
    "    tables=[\"albums\", \"tracks\", \"artists\"],\n",
    "    llm=llm,\n",
    ")"
   ]
  },
  {
   "cell_type": "code",
   "execution_count": 29,
   "metadata": {},
   "outputs": [
    {
     "name": "stdout",
     "output_type": "stream",
     "text": [
      " - '...And Justice For All'\n",
      "- '20th Century Masters - The Millennium Collection: The Best of Scorpions'\n",
      "- 'A Copland Celebration, Vol. I'\n",
      "- 'A Matter of Life and Death'\n",
      "- 'A Real Dead One'\n",
      "- 'A Real Live One'\n",
      "- 'A Soprano Inspired'\n",
      "- 'A TempestadeTempestade Ou O Livro Dos Dias'\n",
      "- 'A-Sides'\n",
      "- 'Ace Of Spades'\n"
     ]
    }
   ],
   "source": [
    "response = query_engine.query(\"List 10 albums? Give answer as bullets\")\n",
    "\n",
    "print(response)"
   ]
  },
  {
   "cell_type": "code",
   "execution_count": 30,
   "metadata": {},
   "outputs": [
    {
     "data": {
      "text/html": [
       "<div>\n",
       "<style scoped>\n",
       "    .dataframe tbody tr th:only-of-type {\n",
       "        vertical-align: middle;\n",
       "    }\n",
       "\n",
       "    .dataframe tbody tr th {\n",
       "        vertical-align: top;\n",
       "    }\n",
       "\n",
       "    .dataframe thead th {\n",
       "        text-align: right;\n",
       "    }\n",
       "</style>\n",
       "<table border=\"1\" class=\"dataframe\">\n",
       "  <thead>\n",
       "    <tr style=\"text-align: right;\">\n",
       "      <th></th>\n",
       "      <th>AlbumId</th>\n",
       "      <th>Title</th>\n",
       "      <th>ArtistId</th>\n",
       "    </tr>\n",
       "  </thead>\n",
       "  <tbody>\n",
       "    <tr>\n",
       "      <th>0</th>\n",
       "      <td>1</td>\n",
       "      <td>For Those About To Rock We Salute You</td>\n",
       "      <td>1</td>\n",
       "    </tr>\n",
       "    <tr>\n",
       "      <th>1</th>\n",
       "      <td>2</td>\n",
       "      <td>Balls to the Wall</td>\n",
       "      <td>2</td>\n",
       "    </tr>\n",
       "    <tr>\n",
       "      <th>2</th>\n",
       "      <td>3</td>\n",
       "      <td>Restless and Wild</td>\n",
       "      <td>2</td>\n",
       "    </tr>\n",
       "    <tr>\n",
       "      <th>3</th>\n",
       "      <td>4</td>\n",
       "      <td>Let There Be Rock</td>\n",
       "      <td>1</td>\n",
       "    </tr>\n",
       "    <tr>\n",
       "      <th>4</th>\n",
       "      <td>5</td>\n",
       "      <td>Big Ones</td>\n",
       "      <td>3</td>\n",
       "    </tr>\n",
       "  </tbody>\n",
       "</table>\n",
       "</div>"
      ],
      "text/plain": [
       "   AlbumId                                  Title  ArtistId\n",
       "0        1  For Those About To Rock We Salute You         1\n",
       "1        2                      Balls to the Wall         2\n",
       "2        3                      Restless and Wild         2\n",
       "3        4                      Let There Be Rock         1\n",
       "4        5                               Big Ones         3"
      ]
     },
     "execution_count": 30,
     "metadata": {},
     "output_type": "execute_result"
    }
   ],
   "source": [
    "import sqlite3\n",
    "import pandas as pd\n",
    "\n",
    "conn = sqlite3.connect('data/chinook/chinook.db')\n",
    "df = pd.read_sql(\"select * from albums limit 5;\", conn)\n",
    "df"
   ]
  },
  {
   "cell_type": "code",
   "execution_count": 31,
   "metadata": {},
   "outputs": [
    {
     "name": "stdout",
     "output_type": "stream",
     "text": [
      " Based on the query results, some artists are AC/DC, Accept, Aerosmith, Alanis Morissette, and Alice in Chains.\n"
     ]
    }
   ],
   "source": [
    "response = query_engine.query(\"What are some artists? Limit it to 5.\")\n",
    "\n",
    "print(response)"
   ]
  },
  {
   "cell_type": "code",
   "execution_count": 32,
   "metadata": {},
   "outputs": [
    {
     "name": "stdout",
     "output_type": "stream",
     "text": [
      " Here are three tracks from the artist AC/DC: \"For Those About To Rock (We Salute You)\", \"Put The Finger On You\", and \"Let's Get It Up\". These tracks are all from the album \"For Those About To Rock We Salute You\".\n"
     ]
    }
   ],
   "source": [
    "response = query_engine.query(\n",
    "    \"What are some tracks from the artist AC/DC? Limit it to 3\"\n",
    ")\n",
    "\n",
    "print(response)\n"
   ]
  },
  {
   "cell_type": "code",
   "execution_count": 33,
   "metadata": {},
   "outputs": [
    {
     "name": "stdout",
     "output_type": "stream",
     "text": [
      "SELECT tracks.Name, albums.Title\n",
      "FROM tracks\n",
      "JOIN albums ON tracks.AlbumId = albums.AlbumId\n",
      "JOIN artists ON albums.ArtistId = artists.ArtistId\n",
      "WHERE artists.Name = 'AC/DC'\n",
      "LIMIT 3;\n"
     ]
    }
   ],
   "source": [
    "print(response.metadata[\"sql_query\"])\n"
   ]
  },
  {
   "cell_type": "code",
   "execution_count": 34,
   "metadata": {},
   "outputs": [],
   "source": [
    "from llama_index.core.memory import ChatMemoryBuffer\n",
    "from llama_index.core.chat_engine import CondensePlusContextChatEngine\n",
    "\n",
    "memory = ChatMemoryBuffer.from_defaults(token_limit=3900)\n",
    "\n",
    "chat_engine = CondensePlusContextChatEngine.from_defaults(\n",
    "    index.as_retriever(),\n",
    "    memory=memory,\n",
    "    llm=llm,\n",
    "    context_prompt=(\n",
    "        \"You are a chatbot, able to have normal interactions, as well as talk\"\n",
    "        \" about the Kendrick and Drake beef.\"\n",
    "        \"Here are the relevant documents for the context:\\n\"\n",
    "        \"{context_str}\"\n",
    "        \"\\nInstruction: Use the previous chat history, or the context above, to interact and help the user.\"\n",
    "    ),\n",
    "    verbose=True,\n",
    ")"
   ]
  },
  {
   "cell_type": "code",
   "execution_count": 35,
   "metadata": {},
   "outputs": [
    {
     "name": "stdout",
     "output_type": "stream",
     "text": [
      "Condensed question: Tell me about the songs Drake released in the beef.\n",
      "Context: page_label: 31\n",
      "file_path: data/cookbook/drake_kendrick_beef.pdf\n",
      "\n",
      "Culture\n",
      "Shaboo zey’s Cowboy Carter Features Were Only the Be ginning\n",
      "By Heven Haile\n",
      "Sign up for Manual, our new flagship newsletter\n",
      "Useful advice on style, health, and more, four days a week.\n",
      "5/10/24, 10:08 PM The Kendrick Lamar/Drake Beef, Explained | GQ\n",
      "https://www.gq.com/story/the-kendrick-lamar-drake-beef-explained 31/34\n",
      "\n",
      "page_label: 18\n",
      "file_path: data/cookbook/drake_kendrick_beef.pdf\n",
      "\n",
      "Kurrco\n",
      "@Kurrco·Follow\n",
      "KENDRICK LAMAR\n",
      "6\u000016 IN LA\n",
      "(DRAKE DISS)\n",
      "OUT NOW \n",
      "This video has been deleted.\n",
      "6\u000008 AM · May 3, 2024\n",
      "59.3K Reply Copy link\n",
      "Read 1.3K replies\n",
      "After all this talk about “the clock,” who among us expected Kendrick to follow up his\n",
      "own titanic diss track with another missile just three days later? Friday morning he\n",
      "released “6:16 in LA,” with its title of course being a nod to Drake's series of time-stamp-\n",
      "Sign up for Manual, our new flagship newsletter\n",
      "Useful advice on style, health, and more, four days a week.\n",
      "5/10/24, 10:08 PM The Kendrick Lamar/Drake Beef, Explained | GQ\n",
      "https://www.gq.com/story/the-kendrick-lamar-drake-beef-explained 18/34\n",
      " In the Kendrick Lamar and Drake \"beef,\" Drake released several songs that were perceived as diss tracks towards Kendrick Lamar. One of these songs is titled \"6PM in New York\" which was released on May 3, 2024. The title is a nod to Kendrick's song \"6:00 PM in California,\" and many fans interpreted it as a response to Kendrick's diss track \"The Heart Part 5.\" However, the video for this song has since been deleted. Another song that Drake released during this time was \"Trophies,\" which also included lyrics that some perceived as directed at Kendrick Lamar. These songs were part of the ongoing back-and-forth between the two artists in their public feud.\n"
     ]
    }
   ],
   "source": [
    "response = chat_engine.chat(\n",
    "    \"Tell me about the songs Drake released in the beef.\"\n",
    ")\n",
    "print(str(response))"
   ]
  },
  {
   "cell_type": "code",
   "execution_count": 36,
   "metadata": {},
   "outputs": [
    {
     "name": "stdout",
     "output_type": "stream",
     "text": [
      "Condensed question:  \"What was Kendrick Lamar's response during the beef with Drake?\"\n",
      "Context: page_label: 10\n",
      "file_path: data/cookbook/drake_kendrick_beef.pdf\n",
      "\n",
      "Dreamville Festival last weekend: “I don't care what Cole think, that Dot shit was weak\n",
      "as fuck.”\n",
      "Drake ends the original version of the song daring Kendrick to drop the nuclear diss he's\n",
      "reportedly sitting on or “shut your mouth,” alleging that Kendrick has had one for “four\n",
      "years” and still hasn't pushed the button. As direct as this Drake song is, the last few bars\n",
      "imply it's just a move to get Kendrick to reply, at which point Drake has more\n",
      "information ready to weaponize.\n",
      "But the blink-and-you'll-miss-it reference to Kendrick's partner Whitney (\"I'll be with\n",
      "some bodyguards like Whitney\") suggests Drake may not be considering the way his last\n",
      "high profile beef turned out. In 2018 when he rapped to Pusha T that his crew would\n",
      "“let it ring on him like Virginia Williams,” Pusha took the name-drop of his then fiancé\n",
      "as an excuse to take the gloves off and reveal intimate details about Drake's own family. Is\n",
      "Drake intentionally baiting Kendrick to take it to a similar level so he can hit back even\n",
      "harder, or is he once again underestimating his opponent?\n",
      "April 19: Dr ake drops “Taylor Ma de,” an A.I. tr oll-stunt taunting K endrick t o reply\n",
      "to “P ush Up s”\n",
      "Not found\n",
      "https://twitter.com/Drake/status/1781536244071358886\n",
      "You've got to hand it to Drake: he has a wicked sense of humor. In the week since “Push\n",
      "Ups” impacted, the diss climate has been clouded by a new, decidedly 2024 problem: A.I.\n",
      "The ease with which impostors can use artificial intelligence tools to make a response\n",
      "initiating Drake, Kendrick, or whoever—coupled with “Push Ups” actually originating\n",
      "from a real leak first—has made everyone second-guess the validity of the response tracks\n",
      "that will follow. And with good reason: there have been a bevy of fake tracks in the last\n",
      "Sign up for Manual, our new flagship newsletter\n",
      "Useful advice on style, health, and more, four days a week.\n",
      "5/10/24, 10:08 PM The Kendrick Lamar/Drake Beef, Explained | GQ\n",
      "https://www.gq.com/story/the-kendrick-lamar-drake-beef-explained 10/34\n",
      "\n",
      "page_label: 17\n",
      "file_path: data/cookbook/drake_kendrick_beef.pdf\n",
      "\n",
      "Melly is, of course, the Florida rapper whose rising career came to a screeching halt\n",
      "thanks to a still ongoing murder trial accusing Melly of the premeditated murders of two\n",
      "YNW associates—ostensibly, two close friends. (Second best line: using Haley Joel\n",
      "Osment's IMDb for a two-for-one A.I. and ghostwriters reference.)\n",
      "With lines referencing Puff Daddy notoriously slapping Drake and calling out Drake's\n",
      "right-hand enforcer Chubbs by name, Kendrick's threatening to “take it there,” but for\n",
      "now it remains a fun war of words and one that doesn't seem likely to end anytime soon,\n",
      "much less in an anticlimax like the Drake-Pusha T beef. Drake can only have been\n",
      "desperate for Kendrick to respond because he has a fully loaded clip waiting to shoot,\n",
      "and Kendrick for his part here, promises “headshots all year, you better walk around like\n",
      "Daft Punk.” Summer's heating up.\n",
      "May 3: K endrick g oes back-to-back with “6:16 in L A”\n",
      "Sign up for Manual, our new flagship newsletter\n",
      "Useful advice on style, health, and more, four days a week.\n",
      "5/10/24, 10:08 PM The Kendrick Lamar/Drake Beef, Explained | GQ\n",
      "https://www.gq.com/story/the-kendrick-lamar-drake-beef-explained 17/34\n",
      " Kendrick Lamar also released a few tracks that were believed to be directed at Drake. The most notable one is \"The Heart Part 5,\" which was released on March 24, 2023. In this song, Kendrick raps: \"I ain't no f***ing hero, I'm just a villain in someone else's story.\" Many fans interpreted this line as a direct diss towards Drake and his album title \"Villian\" released earlier that year. On May 3, 2024, Kendrick followed up with another song titled \"6:16 in Los Angeles,\" which is also seen as a response to Drake's \"6PM in New York.\" The lyrics of this song include lines such as \"Headshots all year, you better walk around like Daft Punk\" and \"I told y'all I ain't playin' fair,\" further fueling speculation that Kendrick was taking aim at Drake.\n"
     ]
    }
   ],
   "source": [
    "response = chat_engine.chat(\"What about Kendrick?\")\n",
    "print(str(response))"
   ]
  },
  {
   "cell_type": "code",
   "execution_count": 40,
   "metadata": {},
   "outputs": [],
   "source": [
    "from llama_index.core import (\n",
    "    SimpleDirectoryReader,\n",
    "    VectorStoreIndex,\n",
    "    StorageContext,\n",
    "    load_index_from_storage,\n",
    ")\n",
    "from llama_index.core.agent import ReActAgent\n",
    "\n",
    "\n",
    "from llama_index.core.tools import QueryEngineTool, ToolMetadata"
   ]
  },
  {
   "cell_type": "code",
   "execution_count": 38,
   "metadata": {},
   "outputs": [],
   "source": [
    "drake_tool = QueryEngineTool(\n",
    "    drake_index.as_query_engine(),\n",
    "    metadata=ToolMetadata(\n",
    "        name=\"drake_search\",\n",
    "        description=\"Useful for searching over Drake's life.\",\n",
    "    ),\n",
    ")\n",
    "\n",
    "kendrick_tool = QueryEngineTool(\n",
    "    kendrick_index.as_query_engine(),\n",
    "    metadata=ToolMetadata(\n",
    "        name=\"kendrick_search\",\n",
    "        description=\"Useful for searching over Kendrick's life.\",\n",
    "    ),\n",
    ")\n",
    "\n",
    "query_engine_tools = [drake_tool, kendrick_tool]"
   ]
  },
  {
   "cell_type": "code",
   "execution_count": 41,
   "metadata": {},
   "outputs": [],
   "source": [
    "agent = ReActAgent.from_tools(\n",
    "    query_engine_tools,  ## TODO: define query tools\n",
    "    llm=llm,\n",
    "    verbose=True,\n",
    ")"
   ]
  },
  {
   "cell_type": "code",
   "execution_count": 42,
   "metadata": {},
   "outputs": [
    {
     "name": "stdout",
     "output_type": "stream",
     "text": [
      "\u001b[1;3;38;5;200mThought: The current language of the user is not specified, I will assume English for this response. I need to use a tool to help me answer the question.\n",
      "Action: kendrick_search\n",
      "Action Input: {'input': 'Kendrick Lamar and Drake upbringing'}\n",
      "\u001b[0m\u001b[1;3;34mObservation:  Kendrick Lamar was born in Compton, California to parents who were African Americans from the South Side of Chicago. He lived in Section 8 housing, was reliant on welfare and food stamps, and experienced homelessness during his childhood. Lamar grew up with close affiliates of the Westside Pirus gang, despite not being a member himself. His family lived in relative hardship, but he remembered having \"good memories\" from his childhood that sparked his interest in hip hop music.\n",
      "\n",
      "On the other hand, Drake was born and raised in Toronto, Canada to African-Canadian parents. He grew up in a middle-class neighborhood and attended Jewish day school before switching to a public high school. Drake's father was a drummer, which influenced Drake's interest in music from an early age. Unlike Lamar, Drake did not grow up with gang affiliations.\n",
      "\n",
      "Therefore, while both artists experienced hardships in their youth, they came from different socio-economic backgrounds and upbringings.\n",
      "\u001b[0m\u001b[1;3;38;5;200mThought: I can answer without using any more tools. I'll use English to answer.\n",
      "Answer: Kendrick Lamar grew up in Compton, California in a low-income family with gang affiliations, while Drake was born and raised in Toronto, Canada in a middle-class neighborhood without gang connections. Despite their different backgrounds, both artists have faced hardships in their youth.\n",
      "\u001b[0mKendrick Lamar grew up in Compton, California in a low-income family with gang affiliations, while Drake was born and raised in Toronto, Canada in a middle-class neighborhood without gang connections. Despite their different backgrounds, both artists have faced hardships in their youth.\n"
     ]
    }
   ],
   "source": [
    "response = agent.chat(\"Tell me about how Kendrick and Drake grew up\")\n",
    "print(str(response))"
   ]
  },
  {
   "cell_type": "code",
   "execution_count": 49,
   "metadata": {},
   "outputs": [
    {
     "name": "stdout",
     "output_type": "stream",
     "text": [
      "\u001b[1;3;38;5;200mThought: (Implicit) I can answer without any more tools!\n",
      "Answer:  No, Kendrick Lamar and Drake are not brothers. They are two separate individuals who grew up in different environments but have had success in the music industry.\n",
      "\u001b[0m No, Kendrick Lamar and Drake are not brothers. They are two separate individuals who grew up in different environments but have had success in the music industry.\n"
     ]
    }
   ],
   "source": [
    "response = agent.chat(\"Are Kendrick and Drake brothers?\")\n",
    "print(str(response))"
   ]
  },
  {
   "cell_type": "code",
   "execution_count": 50,
   "metadata": {},
   "outputs": [
    {
     "name": "stdout",
     "output_type": "stream",
     "text": [
      "\u001b[1;3;38;5;200mThought: (Implicit) I can answer without any more tools!\n",
      "Answer:  To answer your question again, Drake was born on October 24, 1985, while Kendrick Lamar was born on June 17, 1987. Therefore, Drake is older by approximately 1 year and 4 months compared to Kendrick Lamar.\n",
      "\u001b[0m To answer your question again, Drake was born on October 24, 1985, while Kendrick Lamar was born on June 17, 1987. Therefore, Drake is older by approximately 1 year and 4 months compared to Kendrick Lamar.\n"
     ]
    }
   ],
   "source": [
    "response = agent.chat(\"Who is older,  Kendrick or Drake?\")\n",
    "print(str(response))"
   ]
  },
  {
   "cell_type": "code",
   "execution_count": 47,
   "metadata": {},
   "outputs": [],
   "source": [
    "# https://docs.llamaindex.ai/en/stable/examples/cookbooks/llama3_cookbook_ollama_replicate/"
   ]
  },
  {
   "cell_type": "code",
   "execution_count": null,
   "metadata": {},
   "outputs": [],
   "source": []
  }
 ],
 "metadata": {
  "kernelspec": {
   "display_name": "llindex",
   "language": "python",
   "name": "python3"
  },
  "language_info": {
   "codemirror_mode": {
    "name": "ipython",
    "version": 3
   },
   "file_extension": ".py",
   "mimetype": "text/x-python",
   "name": "python",
   "nbconvert_exporter": "python",
   "pygments_lexer": "ipython3",
   "version": "3.10.14"
  }
 },
 "nbformat": 4,
 "nbformat_minor": 2
}
