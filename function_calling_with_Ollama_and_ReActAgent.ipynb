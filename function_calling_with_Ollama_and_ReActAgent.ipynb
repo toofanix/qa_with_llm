{
 "cells": [
  {
   "cell_type": "code",
   "execution_count": 1,
   "metadata": {},
   "outputs": [],
   "source": [
    "model = \"llama3\""
   ]
  },
  {
   "cell_type": "code",
   "execution_count": 25,
   "metadata": {},
   "outputs": [],
   "source": [
    "def add_two_numbers(number1: int, number2: int)-> int:\n",
    "    \"\"\"\n",
    "    Add two numbers and return the result.\n",
    "    \n",
    "    Args:\n",
    "        number1: The first number.\n",
    "        number2: The second number.   \n",
    "    \"\"\"\n",
    "    return (number1 + number2)\n",
    "\n",
    "def multiply_two_numbers(number1: int, number2: int)-> int:\n",
    "    \"\"\"\n",
    "    Multiply two numbers and return the result.\n",
    "    \n",
    "    Args:\n",
    "        number1: The first number.\n",
    "        number2: The second number.   \n",
    "    \"\"\"\n",
    "    return (number1 * number2)\n",
    "\n",
    "def divide_two_numbers(number1: int, number2: int)-> int:\n",
    "    \"\"\"\n",
    "    Divide two numbers and return the result.\n",
    "    \n",
    "    Args:\n",
    "        number1: The first number.\n",
    "        number2: The second number.   \n",
    "    \"\"\"\n",
    "    return (number1 / number2)\n",
    "\n",
    "\n",
    "def useless_tool() -> int:\n",
    "    \"\"\"\n",
    "    This is useless tool\n",
    "    \"\"\"\n",
    "    return \"This is a useless output\"\n",
    "\n"
   ]
  },
  {
   "cell_type": "code",
   "execution_count": 3,
   "metadata": {},
   "outputs": [],
   "source": [
    "from llama_index.core.agent import ReActAgent\n",
    "from llama_index.core.tools import BaseTool, FunctionTool"
   ]
  },
  {
   "cell_type": "code",
   "execution_count": 4,
   "metadata": {},
   "outputs": [
    {
     "name": "stdout",
     "output_type": "stream",
     "text": [
      "The capital of France is Paris.\n"
     ]
    }
   ],
   "source": [
    "from llama_index.llms.ollama import Ollama\n",
    "\n",
    "llm = Ollama(model=model, request_timeout=60.0)\n",
    "\n",
    "response = llm.complete(\"What is the capital of France?\")\n",
    "print(response)"
   ]
  },
  {
   "cell_type": "code",
   "execution_count": 26,
   "metadata": {},
   "outputs": [],
   "source": [
    "tools = [FunctionTool.from_defaults(fn=func) for func in [add_two_numbers, multiply_two_numbers, divide_two_numbers]]\n",
    "\n",
    "agent = ReActAgent.from_tools(tools, llm=llm, verbose=True)"
   ]
  },
  {
   "cell_type": "code",
   "execution_count": 27,
   "metadata": {},
   "outputs": [
    {
     "name": "stdout",
     "output_type": "stream",
     "text": [
      "\u001b[1;3;38;5;200mThought: The current language of the user is English. I need to use a tool to help me answer the question.\n",
      "Action: multiply_two_numbers\n",
      "Action Input: {'number1': 119, 'number2': 8}\n",
      "\u001b[0m\u001b[1;3;34mObservation: 952\n",
      "\u001b[0m\u001b[1;3;38;5;200mThought: Now that we have the result of multiplying 119 and 8, which is 952. We need to subtract 20 from this result.\n",
      "Action: add_two_numbers\n",
      "Action Input: {'number1': 952, 'number2': -20}\n",
      "\u001b[0m\u001b[1;3;34mObservation: 932\n",
      "\u001b[0m\u001b[1;3;38;5;200mThought: I can answer without using any more tools. I'll use the user's language to answer\n",
      "Answer: The final result is 932.\n",
      "\u001b[0m"
     ]
    }
   ],
   "source": [
    "response = agent.chat(\"Whats 119 times 8 minus 20. Don't do any math yourself, only use tools for math. Respect order of operations\")\n"
   ]
  },
  {
   "cell_type": "code",
   "execution_count": 29,
   "metadata": {},
   "outputs": [
    {
     "name": "stdout",
     "output_type": "stream",
     "text": [
      "\u001b[1;3;38;5;200mThought: I need to calculate the expression (33*3)/(3+8).\n",
      "Action: multiply_two_numbers\n",
      "Action Input: {'number1': 33, 'number2': 3}\n",
      "\u001b[0m\u001b[1;3;34mObservation: 99\n",
      "\u001b[0m\u001b[1;3;38;5;200mThought: Now I need to divide the result by (3+8). Let's use another tool.\n",
      "Action: add_two_numbers\n",
      "Action Input: {'number1': 3, 'number2': 8}\n",
      "\u001b[0m\u001b[1;3;34mObservation: 11\n",
      "\u001b[0m\u001b[1;3;38;5;200mThought: Now I have the value of (3+8), which is 11. I need to divide the previous result by this value.\n",
      "Action: divide_two_numbers\n",
      "Action Input: {'number1': 99, 'number2': 11}\n",
      "\u001b[0m\u001b[1;3;34mObservation: 9.0\n",
      "\u001b[0m\u001b[1;3;38;5;200mThought: I can answer without using any more tools. I'll use the user's language to answer\n",
      "Answer: 9.0\n",
      "\u001b[0m"
     ]
    }
   ],
   "source": [
    "response = agent.chat(\"Whats (33*3)/(3+8). Don't do any math yourself, only use tools for math. Respect order of operations\")\n"
   ]
  },
  {
   "cell_type": "code",
   "execution_count": 30,
   "metadata": {},
   "outputs": [
    {
     "name": "stdout",
     "output_type": "stream",
     "text": [
      "=========================\n",
      "multiply_two_numbers\n",
      "{'number1': 33, 'number2': 3}\n",
      "=========================\n",
      "=========================\n",
      "add_two_numbers\n",
      "{'number1': 3, 'number2': 8}\n",
      "=========================\n",
      "=========================\n",
      "divide_two_numbers\n",
      "{'number1': 99, 'number2': 11}\n",
      "=========================\n"
     ]
    }
   ],
   "source": [
    "for source in response.sources:\n",
    "    print(\"=\"*25)\n",
    "    print(source.tool_name)\n",
    "    print(source.raw_input['kwargs'])\n",
    "    print(\"=\"*25)"
   ]
  },
  {
   "cell_type": "code",
   "execution_count": null,
   "metadata": {},
   "outputs": [],
   "source": []
  }
 ],
 "metadata": {
  "kernelspec": {
   "display_name": "llindex",
   "language": "python",
   "name": "python3"
  },
  "language_info": {
   "codemirror_mode": {
    "name": "ipython",
    "version": 3
   },
   "file_extension": ".py",
   "mimetype": "text/x-python",
   "name": "python",
   "nbconvert_exporter": "python",
   "pygments_lexer": "ipython3",
   "version": "3.10.14"
  }
 },
 "nbformat": 4,
 "nbformat_minor": 2
}
